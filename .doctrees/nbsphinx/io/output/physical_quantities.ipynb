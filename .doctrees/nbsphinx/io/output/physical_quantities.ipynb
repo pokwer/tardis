{
 "cells": [
  {
   "cell_type": "raw",
   "metadata": {
    "raw_mimetype": "text/restructuredtext"
   },
   "source": [
    ".. _physical_quantities:\n",
    "\n",
    "*****************************\n",
    "Accessing Physical Quantities\n",
    "*****************************"
   ]
  },
  {
   "cell_type": "markdown",
   "metadata": {},
   "source": [
    "In order to compute the synthetic spectrum, TARDIS must either be told\n",
    "or must calculate many physical properties of the model. To understand and\n",
    "test the code it can be important to look at these values. One\n",
    "easy way to do this is to run TARDIS in an interactive mode and then\n",
    "inspect the model properties."
   ]
  },
  {
   "cell_type": "markdown",
   "metadata": {},
   "source": [
    "### Runing in interactive Python session"
   ]
  },
  {
   "cell_type": "code",
   "execution_count": 1,
   "metadata": {
    "execution": {
     "iopub.execute_input": "2021-06-27T00:24:18.879268Z",
     "iopub.status.busy": "2021-06-27T00:24:18.878809Z",
     "iopub.status.idle": "2021-06-27T00:24:19.770149Z",
     "shell.execute_reply": "2021-06-27T00:24:19.770558Z"
    }
   },
   "outputs": [
    {
     "name": "stderr",
     "output_type": "stream",
     "text": [
      "/usr/share/miniconda3/envs/tardis/lib/python3.7/importlib/_bootstrap.py:219: QAWarning: pyne.data is not yet QA compliant.\n",
      "  return f(*args, **kwds)\n"
     ]
    },
    {
     "name": "stdout",
     "output_type": "stream",
     "text": [
      "[\u001b[1mtardis.io.atom_data.atom_web_download\u001b[0m][\u001b[1;37mINFO\u001b[0m   ]  Downloading atomic data from https://media.githubusercontent.com/media/tardis-sn/tardis-refdata/master/atom_data/kurucz_cd23_chianti_H_He.h5 to /home/runner/Downloads/tardis-data/kurucz_cd23_chianti_H_He.h5 (\u001b[1matom_web_download.py\u001b[0m:46)\n"
     ]
    },
    {
     "name": "stdout",
     "output_type": "stream",
     "text": [
      "  % Total    % Received % Xferd  Average Speed   Time    Time     Time  Current\r\n",
      "                                 Dload  Upload   Total   Spent    Left  Speed\r\n",
      "\r",
      "  0     0    0     0    0     0      0      0 --:--:-- --:--:-- --:--:--     0"
     ]
    },
    {
     "name": "stdout",
     "output_type": "stream",
     "text": [
      "\r",
      "100   980  100   980    0     0  10000      0 --:--:-- --:--:-- --:--:-- 10000\r\n"
     ]
    }
   ],
   "source": [
    "# Download the atomic data\n",
    "from tardis.io.atom_data.util import download_atom_data\n",
    "download_atom_data('kurucz_cd23_chianti_H_He')\n",
    "\n",
    "# Download the example configuration file\n",
    "!curl -O https://raw.githubusercontent.com/tardis-sn/tardis/master/docs/tardis_example.yml"
   ]
  },
  {
   "cell_type": "code",
   "execution_count": 2,
   "metadata": {
    "execution": {
     "iopub.execute_input": "2021-06-27T00:24:19.774982Z",
     "iopub.status.busy": "2021-06-27T00:24:19.774079Z",
     "iopub.status.idle": "2021-06-27T00:24:56.774371Z",
     "shell.execute_reply": "2021-06-27T00:24:56.773958Z"
    }
   },
   "outputs": [
    {
     "name": "stdout",
     "output_type": "stream",
     "text": [
      "[\u001b[1mtardis.plasma.standard_plasmas\u001b[0m][\u001b[1;37mINFO\u001b[0m   ]  \n",
      "\tReading Atomic Data from kurucz_cd23_chianti_H_He.h5 (\u001b[1mstandard_plasmas.py\u001b[0m:91)\n"
     ]
    },
    {
     "name": "stdout",
     "output_type": "stream",
     "text": [
      "[\u001b[1mtardis.io.atom_data.util\u001b[0m][\u001b[1;37mINFO\u001b[0m   ]  \n",
      "\tAtom Data kurucz_cd23_chianti_H_He.h5 not found in local path.\n",
      "\tExists in TARDIS Data repo /home/runner/Downloads/tardis-data/kurucz_cd23_chianti_H_He.h5 (\u001b[1mutil.py\u001b[0m:34)\n"
     ]
    },
    {
     "name": "stdout",
     "output_type": "stream",
     "text": [
      "[\u001b[1mtardis.io.atom_data.base\u001b[0m][\u001b[1;37mINFO\u001b[0m   ]  \n",
      "\tReading Atom Data with:\n",
      "\tUUID = 6f7b09e887a311e7a06b246e96350010\n",
      "\tMD5  = 864f1753714343c41f99cb065710cace  (\u001b[1mbase.py\u001b[0m:189)\n"
     ]
    },
    {
     "name": "stdout",
     "output_type": "stream",
     "text": [
      "[\u001b[1mtardis.io.atom_data.base\u001b[0m][\u001b[1;37mINFO\u001b[0m   ]  \n",
      "\tNon provided atomic data:\n",
      "\tsynpp_refs, photoionization_data, yg_data, two_photon_data (\u001b[1mbase.py\u001b[0m:193)\n"
     ]
    },
    {
     "name": "stdout",
     "output_type": "stream",
     "text": [
      "[\u001b[1mtardis.simulation.base\u001b[0m][\u001b[1;37mINFO\u001b[0m   ]  \n",
      "\tStarting iteration 1 of 20 (\u001b[1mbase.py\u001b[0m:325)\n"
     ]
    },
    {
     "name": "stdout",
     "output_type": "stream",
     "text": [
      "[\u001b[1mpy.warnings         \u001b[0m][\u001b[1;33mWARNING\u001b[0m]  /usr/share/miniconda3/envs/tardis/lib/python3.7/site-packages/astropy/units/equivalencies.py:124: RuntimeWarning: divide by zero encountered in double_scalars\n",
      "  (si.m, si.Hz, lambda x: _si.c.value / x),\n",
      " (\u001b[1mwarnings.py\u001b[0m:110)\n"
     ]
    },
    {
     "name": "stdout",
     "output_type": "stream",
     "text": [
      "[\u001b[1mtardis.simulation.base\u001b[0m][\u001b[1;37mINFO\u001b[0m   ]  \n",
      "\tLuminosity emitted   = 7.942e+42 erg / s\n",
      "\tLuminosity absorbed  = 2.659e+42 erg / s\n",
      "\tLuminosity requested = 1.059e+43 erg / s\n",
      " (\u001b[1mbase.py\u001b[0m:453)\n"
     ]
    },
    {
     "name": "stdout",
     "output_type": "stream",
     "text": [
      "[\u001b[1mtardis.simulation.base\u001b[0m][\u001b[1;37mINFO\u001b[0m   ]  \n",
      "\tPlasma stratification: (\u001b[1mbase.py\u001b[0m:430)\n"
     ]
    },
    {
     "name": "stdout",
     "output_type": "stream",
     "text": [
      "[\u001b[1mpy.warnings         \u001b[0m][\u001b[1;33mWARNING\u001b[0m]  /usr/share/miniconda3/envs/tardis/lib/python3.7/site-packages/traitlets/traitlets.py:3036: FutureWarning: --rc={'figure.dpi': 96} for dict-traits is deprecated in traitlets 5.0. You can pass --rc <key=value> ... multiple times to add items to a dict.\n",
      "  FutureWarning,\n",
      " (\u001b[1mwarnings.py\u001b[0m:110)\n"
     ]
    },
    {
     "data": {
      "text/html": [
       "<style  type=\"text/css\" >\n",
       "</style><table id=\"T_0df01bf8_d6de_11eb_b0a3_000d3ae2b912\" ><thead>    <tr>        <th class=\"index_name level0\" >Shell No.</th>        <th class=\"col_heading level0 col0\" >t_rad</th>        <th class=\"col_heading level0 col1\" >next_t_rad</th>        <th class=\"col_heading level0 col2\" >w</th>        <th class=\"col_heading level0 col3\" >next_w</th>    </tr></thead><tbody>\n",
       "                <tr>\n",
       "                        <th id=\"T_0df01bf8_d6de_11eb_b0a3_000d3ae2b912level0_row0\" class=\"row_heading level0 row0\" >0</th>\n",
       "                        <td id=\"T_0df01bf8_d6de_11eb_b0a3_000d3ae2b912row0_col0\" class=\"data row0 col0\" >9.93e+03</td>\n",
       "                        <td id=\"T_0df01bf8_d6de_11eb_b0a3_000d3ae2b912row0_col1\" class=\"data row0 col1\" >1.01e+04</td>\n",
       "                        <td id=\"T_0df01bf8_d6de_11eb_b0a3_000d3ae2b912row0_col2\" class=\"data row0 col2\" >0.4</td>\n",
       "                        <td id=\"T_0df01bf8_d6de_11eb_b0a3_000d3ae2b912row0_col3\" class=\"data row0 col3\" >0.507</td>\n",
       "            </tr>\n",
       "            <tr>\n",
       "                        <th id=\"T_0df01bf8_d6de_11eb_b0a3_000d3ae2b912level0_row1\" class=\"row_heading level0 row1\" >5</th>\n",
       "                        <td id=\"T_0df01bf8_d6de_11eb_b0a3_000d3ae2b912row1_col0\" class=\"data row1 col0\" >9.85e+03</td>\n",
       "                        <td id=\"T_0df01bf8_d6de_11eb_b0a3_000d3ae2b912row1_col1\" class=\"data row1 col1\" >1.02e+04</td>\n",
       "                        <td id=\"T_0df01bf8_d6de_11eb_b0a3_000d3ae2b912row1_col2\" class=\"data row1 col2\" >0.211</td>\n",
       "                        <td id=\"T_0df01bf8_d6de_11eb_b0a3_000d3ae2b912row1_col3\" class=\"data row1 col3\" >0.197</td>\n",
       "            </tr>\n",
       "            <tr>\n",
       "                        <th id=\"T_0df01bf8_d6de_11eb_b0a3_000d3ae2b912level0_row2\" class=\"row_heading level0 row2\" >10</th>\n",
       "                        <td id=\"T_0df01bf8_d6de_11eb_b0a3_000d3ae2b912row2_col0\" class=\"data row2 col0\" >9.78e+03</td>\n",
       "                        <td id=\"T_0df01bf8_d6de_11eb_b0a3_000d3ae2b912row2_col1\" class=\"data row2 col1\" >1.01e+04</td>\n",
       "                        <td id=\"T_0df01bf8_d6de_11eb_b0a3_000d3ae2b912row2_col2\" class=\"data row2 col2\" >0.143</td>\n",
       "                        <td id=\"T_0df01bf8_d6de_11eb_b0a3_000d3ae2b912row2_col3\" class=\"data row2 col3\" >0.117</td>\n",
       "            </tr>\n",
       "            <tr>\n",
       "                        <th id=\"T_0df01bf8_d6de_11eb_b0a3_000d3ae2b912level0_row3\" class=\"row_heading level0 row3\" >15</th>\n",
       "                        <td id=\"T_0df01bf8_d6de_11eb_b0a3_000d3ae2b912row3_col0\" class=\"data row3 col0\" >9.71e+03</td>\n",
       "                        <td id=\"T_0df01bf8_d6de_11eb_b0a3_000d3ae2b912row3_col1\" class=\"data row3 col1\" >9.87e+03</td>\n",
       "                        <td id=\"T_0df01bf8_d6de_11eb_b0a3_000d3ae2b912row3_col2\" class=\"data row3 col2\" >0.105</td>\n",
       "                        <td id=\"T_0df01bf8_d6de_11eb_b0a3_000d3ae2b912row3_col3\" class=\"data row3 col3\" >0.0869</td>\n",
       "            </tr>\n",
       "    </tbody></table>"
      ],
      "text/plain": [
       "<pandas.io.formats.style.Styler at 0x7efcf44ec250>"
      ]
     },
     "metadata": {},
     "output_type": "display_data"
    },
    {
     "name": "stdout",
     "output_type": "stream",
     "text": [
      "[\u001b[1mtardis.simulation.base\u001b[0m][\u001b[1;37mINFO\u001b[0m   ]  None (\u001b[1mbase.py\u001b[0m:433)\n"
     ]
    },
    {
     "name": "stdout",
     "output_type": "stream",
     "text": [
      "[\u001b[1mtardis.simulation.base\u001b[0m][\u001b[1;37mINFO\u001b[0m   ]  \n",
      "\tCurrent t_inner = 9933.952 K\n",
      "\tExpected t_inner for next iteration = 11472.471 K\n",
      " (\u001b[1mbase.py\u001b[0m:448)\n"
     ]
    },
    {
     "name": "stdout",
     "output_type": "stream",
     "text": [
      "[\u001b[1mtardis.simulation.base\u001b[0m][\u001b[1;37mINFO\u001b[0m   ]  \n",
      "\tStarting iteration 2 of 20 (\u001b[1mbase.py\u001b[0m:325)\n"
     ]
    },
    {
     "name": "stdout",
     "output_type": "stream",
     "text": [
      "[\u001b[1mpy.warnings         \u001b[0m][\u001b[1;33mWARNING\u001b[0m]  /usr/share/miniconda3/envs/tardis/lib/python3.7/site-packages/astropy/units/equivalencies.py:124: RuntimeWarning: divide by zero encountered in double_scalars\n",
      "  (si.m, si.Hz, lambda x: _si.c.value / x),\n",
      " (\u001b[1mwarnings.py\u001b[0m:110)\n"
     ]
    },
    {
     "name": "stdout",
     "output_type": "stream",
     "text": [
      "[\u001b[1mtardis.simulation.base\u001b[0m][\u001b[1;37mINFO\u001b[0m   ]  \n",
      "\tLuminosity emitted   = 1.405e+43 erg / s\n",
      "\tLuminosity absorbed  = 4.798e+42 erg / s\n",
      "\tLuminosity requested = 1.059e+43 erg / s\n",
      " (\u001b[1mbase.py\u001b[0m:453)\n"
     ]
    },
    {
     "name": "stdout",
     "output_type": "stream",
     "text": [
      "[\u001b[1mtardis.simulation.base\u001b[0m][\u001b[1;37mINFO\u001b[0m   ]  \n",
      "\tPlasma stratification: (\u001b[1mbase.py\u001b[0m:430)\n"
     ]
    },
    {
     "data": {
      "text/html": [
       "<style  type=\"text/css\" >\n",
       "</style><table id=\"T_0e49772a_d6de_11eb_b0a3_000d3ae2b912\" ><thead>    <tr>        <th class=\"index_name level0\" >Shell No.</th>        <th class=\"col_heading level0 col0\" >t_rad</th>        <th class=\"col_heading level0 col1\" >next_t_rad</th>        <th class=\"col_heading level0 col2\" >w</th>        <th class=\"col_heading level0 col3\" >next_w</th>    </tr></thead><tbody>\n",
       "                <tr>\n",
       "                        <th id=\"T_0e49772a_d6de_11eb_b0a3_000d3ae2b912level0_row0\" class=\"row_heading level0 row0\" >0</th>\n",
       "                        <td id=\"T_0e49772a_d6de_11eb_b0a3_000d3ae2b912row0_col0\" class=\"data row0 col0\" >1.01e+04</td>\n",
       "                        <td id=\"T_0e49772a_d6de_11eb_b0a3_000d3ae2b912row0_col1\" class=\"data row0 col1\" >1.15e+04</td>\n",
       "                        <td id=\"T_0e49772a_d6de_11eb_b0a3_000d3ae2b912row0_col2\" class=\"data row0 col2\" >0.507</td>\n",
       "                        <td id=\"T_0e49772a_d6de_11eb_b0a3_000d3ae2b912row0_col3\" class=\"data row0 col3\" >0.546</td>\n",
       "            </tr>\n",
       "            <tr>\n",
       "                        <th id=\"T_0e49772a_d6de_11eb_b0a3_000d3ae2b912level0_row1\" class=\"row_heading level0 row1\" >5</th>\n",
       "                        <td id=\"T_0e49772a_d6de_11eb_b0a3_000d3ae2b912row1_col0\" class=\"data row1 col0\" >1.02e+04</td>\n",
       "                        <td id=\"T_0e49772a_d6de_11eb_b0a3_000d3ae2b912row1_col1\" class=\"data row1 col1\" >1.15e+04</td>\n",
       "                        <td id=\"T_0e49772a_d6de_11eb_b0a3_000d3ae2b912row1_col2\" class=\"data row1 col2\" >0.197</td>\n",
       "                        <td id=\"T_0e49772a_d6de_11eb_b0a3_000d3ae2b912row1_col3\" class=\"data row1 col3\" >0.223</td>\n",
       "            </tr>\n",
       "            <tr>\n",
       "                        <th id=\"T_0e49772a_d6de_11eb_b0a3_000d3ae2b912level0_row2\" class=\"row_heading level0 row2\" >10</th>\n",
       "                        <td id=\"T_0e49772a_d6de_11eb_b0a3_000d3ae2b912row2_col0\" class=\"data row2 col0\" >1.01e+04</td>\n",
       "                        <td id=\"T_0e49772a_d6de_11eb_b0a3_000d3ae2b912row2_col1\" class=\"data row2 col1\" >1.13e+04</td>\n",
       "                        <td id=\"T_0e49772a_d6de_11eb_b0a3_000d3ae2b912row2_col2\" class=\"data row2 col2\" >0.117</td>\n",
       "                        <td id=\"T_0e49772a_d6de_11eb_b0a3_000d3ae2b912row2_col3\" class=\"data row2 col3\" >0.135</td>\n",
       "            </tr>\n",
       "            <tr>\n",
       "                        <th id=\"T_0e49772a_d6de_11eb_b0a3_000d3ae2b912level0_row3\" class=\"row_heading level0 row3\" >15</th>\n",
       "                        <td id=\"T_0e49772a_d6de_11eb_b0a3_000d3ae2b912row3_col0\" class=\"data row3 col0\" >9.87e+03</td>\n",
       "                        <td id=\"T_0e49772a_d6de_11eb_b0a3_000d3ae2b912row3_col1\" class=\"data row3 col1\" >1.1e+04</td>\n",
       "                        <td id=\"T_0e49772a_d6de_11eb_b0a3_000d3ae2b912row3_col2\" class=\"data row3 col2\" >0.0869</td>\n",
       "                        <td id=\"T_0e49772a_d6de_11eb_b0a3_000d3ae2b912row3_col3\" class=\"data row3 col3\" >0.101</td>\n",
       "            </tr>\n",
       "    </tbody></table>"
      ],
      "text/plain": [
       "<pandas.io.formats.style.Styler at 0x7efcf2552d10>"
      ]
     },
     "metadata": {},
     "output_type": "display_data"
    },
    {
     "name": "stdout",
     "output_type": "stream",
     "text": [
      "[\u001b[1mtardis.simulation.base\u001b[0m][\u001b[1;37mINFO\u001b[0m   ]  None (\u001b[1mbase.py\u001b[0m:433)\n"
     ]
    },
    {
     "name": "stdout",
     "output_type": "stream",
     "text": [
      "[\u001b[1mtardis.simulation.base\u001b[0m][\u001b[1;37mINFO\u001b[0m   ]  \n",
      "\tCurrent t_inner = 11472.471 K\n",
      "\tExpected t_inner for next iteration = 9960.403 K\n",
      " (\u001b[1mbase.py\u001b[0m:448)\n"
     ]
    },
    {
     "name": "stdout",
     "output_type": "stream",
     "text": [
      "[\u001b[1mtardis.simulation.base\u001b[0m][\u001b[1;37mINFO\u001b[0m   ]  \n",
      "\tStarting iteration 3 of 20 (\u001b[1mbase.py\u001b[0m:325)\n"
     ]
    },
    {
     "name": "stdout",
     "output_type": "stream",
     "text": [
      "[\u001b[1mtardis.simulation.base\u001b[0m][\u001b[1;37mINFO\u001b[0m   ]  \n",
      "\tLuminosity emitted   = 8.168e+42 erg / s\n",
      "\tLuminosity absorbed  = 2.550e+42 erg / s\n",
      "\tLuminosity requested = 1.059e+43 erg / s\n",
      " (\u001b[1mbase.py\u001b[0m:453)\n"
     ]
    },
    {
     "name": "stdout",
     "output_type": "stream",
     "text": [
      "[\u001b[1mtardis.simulation.base\u001b[0m][\u001b[1;37mINFO\u001b[0m   ]  \n",
      "\tPlasma stratification: (\u001b[1mbase.py\u001b[0m:430)\n"
     ]
    },
    {
     "data": {
      "text/html": [
       "<style  type=\"text/css\" >\n",
       "</style><table id=\"T_0e9e7b80_d6de_11eb_b0a3_000d3ae2b912\" ><thead>    <tr>        <th class=\"index_name level0\" >Shell No.</th>        <th class=\"col_heading level0 col0\" >t_rad</th>        <th class=\"col_heading level0 col1\" >next_t_rad</th>        <th class=\"col_heading level0 col2\" >w</th>        <th class=\"col_heading level0 col3\" >next_w</th>    </tr></thead><tbody>\n",
       "                <tr>\n",
       "                        <th id=\"T_0e9e7b80_d6de_11eb_b0a3_000d3ae2b912level0_row0\" class=\"row_heading level0 row0\" >0</th>\n",
       "                        <td id=\"T_0e9e7b80_d6de_11eb_b0a3_000d3ae2b912row0_col0\" class=\"data row0 col0\" >1.15e+04</td>\n",
       "                        <td id=\"T_0e9e7b80_d6de_11eb_b0a3_000d3ae2b912row0_col1\" class=\"data row0 col1\" >1.05e+04</td>\n",
       "                        <td id=\"T_0e9e7b80_d6de_11eb_b0a3_000d3ae2b912row0_col2\" class=\"data row0 col2\" >0.546</td>\n",
       "                        <td id=\"T_0e9e7b80_d6de_11eb_b0a3_000d3ae2b912row0_col3\" class=\"data row0 col3\" >0.442</td>\n",
       "            </tr>\n",
       "            <tr>\n",
       "                        <th id=\"T_0e9e7b80_d6de_11eb_b0a3_000d3ae2b912level0_row1\" class=\"row_heading level0 row1\" >5</th>\n",
       "                        <td id=\"T_0e9e7b80_d6de_11eb_b0a3_000d3ae2b912row1_col0\" class=\"data row1 col0\" >1.15e+04</td>\n",
       "                        <td id=\"T_0e9e7b80_d6de_11eb_b0a3_000d3ae2b912row1_col1\" class=\"data row1 col1\" >1.08e+04</td>\n",
       "                        <td id=\"T_0e9e7b80_d6de_11eb_b0a3_000d3ae2b912row1_col2\" class=\"data row1 col2\" >0.223</td>\n",
       "                        <td id=\"T_0e9e7b80_d6de_11eb_b0a3_000d3ae2b912row1_col3\" class=\"data row1 col3\" >0.165</td>\n",
       "            </tr>\n",
       "            <tr>\n",
       "                        <th id=\"T_0e9e7b80_d6de_11eb_b0a3_000d3ae2b912level0_row2\" class=\"row_heading level0 row2\" >10</th>\n",
       "                        <td id=\"T_0e9e7b80_d6de_11eb_b0a3_000d3ae2b912row2_col0\" class=\"data row2 col0\" >1.13e+04</td>\n",
       "                        <td id=\"T_0e9e7b80_d6de_11eb_b0a3_000d3ae2b912row2_col1\" class=\"data row2 col1\" >1.07e+04</td>\n",
       "                        <td id=\"T_0e9e7b80_d6de_11eb_b0a3_000d3ae2b912row2_col2\" class=\"data row2 col2\" >0.135</td>\n",
       "                        <td id=\"T_0e9e7b80_d6de_11eb_b0a3_000d3ae2b912row2_col3\" class=\"data row2 col3\" >0.101</td>\n",
       "            </tr>\n",
       "            <tr>\n",
       "                        <th id=\"T_0e9e7b80_d6de_11eb_b0a3_000d3ae2b912level0_row3\" class=\"row_heading level0 row3\" >15</th>\n",
       "                        <td id=\"T_0e9e7b80_d6de_11eb_b0a3_000d3ae2b912row3_col0\" class=\"data row3 col0\" >1.1e+04</td>\n",
       "                        <td id=\"T_0e9e7b80_d6de_11eb_b0a3_000d3ae2b912row3_col1\" class=\"data row3 col1\" >1.02e+04</td>\n",
       "                        <td id=\"T_0e9e7b80_d6de_11eb_b0a3_000d3ae2b912row3_col2\" class=\"data row3 col2\" >0.101</td>\n",
       "                        <td id=\"T_0e9e7b80_d6de_11eb_b0a3_000d3ae2b912row3_col3\" class=\"data row3 col3\" >0.0781</td>\n",
       "            </tr>\n",
       "    </tbody></table>"
      ],
      "text/plain": [
       "<pandas.io.formats.style.Styler at 0x7efcf4abad10>"
      ]
     },
     "metadata": {},
     "output_type": "display_data"
    },
    {
     "name": "stdout",
     "output_type": "stream",
     "text": [
      "[\u001b[1mtardis.simulation.base\u001b[0m][\u001b[1;37mINFO\u001b[0m   ]  None (\u001b[1mbase.py\u001b[0m:433)\n"
     ]
    },
    {
     "name": "stdout",
     "output_type": "stream",
     "text": [
      "[\u001b[1mtardis.simulation.base\u001b[0m][\u001b[1;37mINFO\u001b[0m   ]  \n",
      "\tCurrent t_inner = 9960.403 K\n",
      "\tExpected t_inner for next iteration = 11342.715 K\n",
      " (\u001b[1mbase.py\u001b[0m:448)\n"
     ]
    },
    {
     "name": "stdout",
     "output_type": "stream",
     "text": [
      "[\u001b[1mtardis.simulation.base\u001b[0m][\u001b[1;37mINFO\u001b[0m   ]  \n",
      "\tStarting iteration 4 of 20 (\u001b[1mbase.py\u001b[0m:325)\n"
     ]
    },
    {
     "name": "stdout",
     "output_type": "stream",
     "text": [
      "[\u001b[1mtardis.simulation.base\u001b[0m][\u001b[1;37mINFO\u001b[0m   ]  \n",
      "\tLuminosity emitted   = 1.356e+43 erg / s\n",
      "\tLuminosity absorbed  = 4.460e+42 erg / s\n",
      "\tLuminosity requested = 1.059e+43 erg / s\n",
      " (\u001b[1mbase.py\u001b[0m:453)\n"
     ]
    },
    {
     "name": "stdout",
     "output_type": "stream",
     "text": [
      "[\u001b[1mtardis.simulation.base\u001b[0m][\u001b[1;37mINFO\u001b[0m   ]  \n",
      "\tPlasma stratification: (\u001b[1mbase.py\u001b[0m:430)\n"
     ]
    },
    {
     "data": {
      "text/html": [
       "<style  type=\"text/css\" >\n",
       "</style><table id=\"T_0ef29d46_d6de_11eb_b0a3_000d3ae2b912\" ><thead>    <tr>        <th class=\"index_name level0\" >Shell No.</th>        <th class=\"col_heading level0 col0\" >t_rad</th>        <th class=\"col_heading level0 col1\" >next_t_rad</th>        <th class=\"col_heading level0 col2\" >w</th>        <th class=\"col_heading level0 col3\" >next_w</th>    </tr></thead><tbody>\n",
       "                <tr>\n",
       "                        <th id=\"T_0ef29d46_d6de_11eb_b0a3_000d3ae2b912level0_row0\" class=\"row_heading level0 row0\" >0</th>\n",
       "                        <td id=\"T_0ef29d46_d6de_11eb_b0a3_000d3ae2b912row0_col0\" class=\"data row0 col0\" >1.05e+04</td>\n",
       "                        <td id=\"T_0ef29d46_d6de_11eb_b0a3_000d3ae2b912row0_col1\" class=\"data row0 col1\" >1.16e+04</td>\n",
       "                        <td id=\"T_0ef29d46_d6de_11eb_b0a3_000d3ae2b912row0_col2\" class=\"data row0 col2\" >0.442</td>\n",
       "                        <td id=\"T_0ef29d46_d6de_11eb_b0a3_000d3ae2b912row0_col3\" class=\"data row0 col3\" >0.498</td>\n",
       "            </tr>\n",
       "            <tr>\n",
       "                        <th id=\"T_0ef29d46_d6de_11eb_b0a3_000d3ae2b912level0_row1\" class=\"row_heading level0 row1\" >5</th>\n",
       "                        <td id=\"T_0ef29d46_d6de_11eb_b0a3_000d3ae2b912row1_col0\" class=\"data row1 col0\" >1.08e+04</td>\n",
       "                        <td id=\"T_0ef29d46_d6de_11eb_b0a3_000d3ae2b912row1_col1\" class=\"data row1 col1\" >1.17e+04</td>\n",
       "                        <td id=\"T_0ef29d46_d6de_11eb_b0a3_000d3ae2b912row1_col2\" class=\"data row1 col2\" >0.165</td>\n",
       "                        <td id=\"T_0ef29d46_d6de_11eb_b0a3_000d3ae2b912row1_col3\" class=\"data row1 col3\" >0.201</td>\n",
       "            </tr>\n",
       "            <tr>\n",
       "                        <th id=\"T_0ef29d46_d6de_11eb_b0a3_000d3ae2b912level0_row2\" class=\"row_heading level0 row2\" >10</th>\n",
       "                        <td id=\"T_0ef29d46_d6de_11eb_b0a3_000d3ae2b912row2_col0\" class=\"data row2 col0\" >1.07e+04</td>\n",
       "                        <td id=\"T_0ef29d46_d6de_11eb_b0a3_000d3ae2b912row2_col1\" class=\"data row2 col1\" >1.14e+04</td>\n",
       "                        <td id=\"T_0ef29d46_d6de_11eb_b0a3_000d3ae2b912row2_col2\" class=\"data row2 col2\" >0.101</td>\n",
       "                        <td id=\"T_0ef29d46_d6de_11eb_b0a3_000d3ae2b912row2_col3\" class=\"data row2 col3\" >0.127</td>\n",
       "            </tr>\n",
       "            <tr>\n",
       "                        <th id=\"T_0ef29d46_d6de_11eb_b0a3_000d3ae2b912level0_row3\" class=\"row_heading level0 row3\" >15</th>\n",
       "                        <td id=\"T_0ef29d46_d6de_11eb_b0a3_000d3ae2b912row3_col0\" class=\"data row3 col0\" >1.02e+04</td>\n",
       "                        <td id=\"T_0ef29d46_d6de_11eb_b0a3_000d3ae2b912row3_col1\" class=\"data row3 col1\" >1.1e+04</td>\n",
       "                        <td id=\"T_0ef29d46_d6de_11eb_b0a3_000d3ae2b912row3_col2\" class=\"data row3 col2\" >0.0781</td>\n",
       "                        <td id=\"T_0ef29d46_d6de_11eb_b0a3_000d3ae2b912row3_col3\" class=\"data row3 col3\" >0.0953</td>\n",
       "            </tr>\n",
       "    </tbody></table>"
      ],
      "text/plain": [
       "<pandas.io.formats.style.Styler at 0x7efd02ce19d0>"
      ]
     },
     "metadata": {},
     "output_type": "display_data"
    },
    {
     "name": "stdout",
     "output_type": "stream",
     "text": [
      "[\u001b[1mtardis.simulation.base\u001b[0m][\u001b[1;37mINFO\u001b[0m   ]  None (\u001b[1mbase.py\u001b[0m:433)\n"
     ]
    },
    {
     "name": "stdout",
     "output_type": "stream",
     "text": [
      "[\u001b[1mtardis.simulation.base\u001b[0m][\u001b[1;37mINFO\u001b[0m   ]  \n",
      "\tCurrent t_inner = 11342.715 K\n",
      "\tExpected t_inner for next iteration = 10026.022 K\n",
      " (\u001b[1mbase.py\u001b[0m:448)\n"
     ]
    },
    {
     "name": "stdout",
     "output_type": "stream",
     "text": [
      "[\u001b[1mtardis.simulation.base\u001b[0m][\u001b[1;37mINFO\u001b[0m   ]  \n",
      "\tStarting iteration 5 of 20 (\u001b[1mbase.py\u001b[0m:325)\n"
     ]
    },
    {
     "name": "stdout",
     "output_type": "stream",
     "text": [
      "[\u001b[1mtardis.simulation.base\u001b[0m][\u001b[1;37mINFO\u001b[0m   ]  \n",
      "\tLuminosity emitted   = 8.318e+42 erg / s\n",
      "\tLuminosity absorbed  = 2.681e+42 erg / s\n",
      "\tLuminosity requested = 1.059e+43 erg / s\n",
      " (\u001b[1mbase.py\u001b[0m:453)\n"
     ]
    },
    {
     "name": "stdout",
     "output_type": "stream",
     "text": [
      "[\u001b[1mtardis.simulation.base\u001b[0m][\u001b[1;37mINFO\u001b[0m   ]  \n",
      "\tPlasma stratification: (\u001b[1mbase.py\u001b[0m:430)\n"
     ]
    },
    {
     "data": {
      "text/html": [
       "<style  type=\"text/css\" >\n",
       "</style><table id=\"T_0f46d316_d6de_11eb_b0a3_000d3ae2b912\" ><thead>    <tr>        <th class=\"index_name level0\" >Shell No.</th>        <th class=\"col_heading level0 col0\" >t_rad</th>        <th class=\"col_heading level0 col1\" >next_t_rad</th>        <th class=\"col_heading level0 col2\" >w</th>        <th class=\"col_heading level0 col3\" >next_w</th>    </tr></thead><tbody>\n",
       "                <tr>\n",
       "                        <th id=\"T_0f46d316_d6de_11eb_b0a3_000d3ae2b912level0_row0\" class=\"row_heading level0 row0\" >0</th>\n",
       "                        <td id=\"T_0f46d316_d6de_11eb_b0a3_000d3ae2b912row0_col0\" class=\"data row0 col0\" >1.16e+04</td>\n",
       "                        <td id=\"T_0f46d316_d6de_11eb_b0a3_000d3ae2b912row0_col1\" class=\"data row0 col1\" >1.06e+04</td>\n",
       "                        <td id=\"T_0f46d316_d6de_11eb_b0a3_000d3ae2b912row0_col2\" class=\"data row0 col2\" >0.498</td>\n",
       "                        <td id=\"T_0f46d316_d6de_11eb_b0a3_000d3ae2b912row0_col3\" class=\"data row0 col3\" >0.444</td>\n",
       "            </tr>\n",
       "            <tr>\n",
       "                        <th id=\"T_0f46d316_d6de_11eb_b0a3_000d3ae2b912level0_row1\" class=\"row_heading level0 row1\" >5</th>\n",
       "                        <td id=\"T_0f46d316_d6de_11eb_b0a3_000d3ae2b912row1_col0\" class=\"data row1 col0\" >1.17e+04</td>\n",
       "                        <td id=\"T_0f46d316_d6de_11eb_b0a3_000d3ae2b912row1_col1\" class=\"data row1 col1\" >1.09e+04</td>\n",
       "                        <td id=\"T_0f46d316_d6de_11eb_b0a3_000d3ae2b912row1_col2\" class=\"data row1 col2\" >0.201</td>\n",
       "                        <td id=\"T_0f46d316_d6de_11eb_b0a3_000d3ae2b912row1_col3\" class=\"data row1 col3\" >0.162</td>\n",
       "            </tr>\n",
       "            <tr>\n",
       "                        <th id=\"T_0f46d316_d6de_11eb_b0a3_000d3ae2b912level0_row2\" class=\"row_heading level0 row2\" >10</th>\n",
       "                        <td id=\"T_0f46d316_d6de_11eb_b0a3_000d3ae2b912row2_col0\" class=\"data row2 col0\" >1.14e+04</td>\n",
       "                        <td id=\"T_0f46d316_d6de_11eb_b0a3_000d3ae2b912row2_col1\" class=\"data row2 col1\" >1.07e+04</td>\n",
       "                        <td id=\"T_0f46d316_d6de_11eb_b0a3_000d3ae2b912row2_col2\" class=\"data row2 col2\" >0.127</td>\n",
       "                        <td id=\"T_0f46d316_d6de_11eb_b0a3_000d3ae2b912row2_col3\" class=\"data row2 col3\" >0.101</td>\n",
       "            </tr>\n",
       "            <tr>\n",
       "                        <th id=\"T_0f46d316_d6de_11eb_b0a3_000d3ae2b912level0_row3\" class=\"row_heading level0 row3\" >15</th>\n",
       "                        <td id=\"T_0f46d316_d6de_11eb_b0a3_000d3ae2b912row3_col0\" class=\"data row3 col0\" >1.1e+04</td>\n",
       "                        <td id=\"T_0f46d316_d6de_11eb_b0a3_000d3ae2b912row3_col1\" class=\"data row3 col1\" >1.03e+04</td>\n",
       "                        <td id=\"T_0f46d316_d6de_11eb_b0a3_000d3ae2b912row3_col2\" class=\"data row3 col2\" >0.0953</td>\n",
       "                        <td id=\"T_0f46d316_d6de_11eb_b0a3_000d3ae2b912row3_col3\" class=\"data row3 col3\" >0.0769</td>\n",
       "            </tr>\n",
       "    </tbody></table>"
      ],
      "text/plain": [
       "<pandas.io.formats.style.Styler at 0x7efd02ceb0d0>"
      ]
     },
     "metadata": {},
     "output_type": "display_data"
    },
    {
     "name": "stdout",
     "output_type": "stream",
     "text": [
      "[\u001b[1mtardis.simulation.base\u001b[0m][\u001b[1;37mINFO\u001b[0m   ]  None (\u001b[1mbase.py\u001b[0m:433)\n"
     ]
    },
    {
     "name": "stdout",
     "output_type": "stream",
     "text": [
      "[\u001b[1mtardis.simulation.base\u001b[0m][\u001b[1;37mINFO\u001b[0m   ]  \n",
      "\tCurrent t_inner = 10026.022 K\n",
      "\tExpected t_inner for next iteration = 11314.135 K\n",
      " (\u001b[1mbase.py\u001b[0m:448)\n"
     ]
    },
    {
     "name": "stdout",
     "output_type": "stream",
     "text": [
      "[\u001b[1mtardis.simulation.base\u001b[0m][\u001b[1;37mINFO\u001b[0m   ]  \n",
      "\tStarting iteration 6 of 20 (\u001b[1mbase.py\u001b[0m:325)\n"
     ]
    },
    {
     "name": "stdout",
     "output_type": "stream",
     "text": [
      "[\u001b[1mtardis.simulation.base\u001b[0m][\u001b[1;37mINFO\u001b[0m   ]  \n",
      "\tLuminosity emitted   = 1.343e+43 erg / s\n",
      "\tLuminosity absorbed  = 4.402e+42 erg / s\n",
      "\tLuminosity requested = 1.059e+43 erg / s\n",
      " (\u001b[1mbase.py\u001b[0m:453)\n"
     ]
    },
    {
     "name": "stdout",
     "output_type": "stream",
     "text": [
      "[\u001b[1mtardis.simulation.base\u001b[0m][\u001b[1;37mINFO\u001b[0m   ]  \n",
      "\tPlasma stratification: (\u001b[1mbase.py\u001b[0m:430)\n"
     ]
    },
    {
     "data": {
      "text/html": [
       "<style  type=\"text/css\" >\n",
       "</style><table id=\"T_0f9a44b0_d6de_11eb_b0a3_000d3ae2b912\" ><thead>    <tr>        <th class=\"index_name level0\" >Shell No.</th>        <th class=\"col_heading level0 col0\" >t_rad</th>        <th class=\"col_heading level0 col1\" >next_t_rad</th>        <th class=\"col_heading level0 col2\" >w</th>        <th class=\"col_heading level0 col3\" >next_w</th>    </tr></thead><tbody>\n",
       "                <tr>\n",
       "                        <th id=\"T_0f9a44b0_d6de_11eb_b0a3_000d3ae2b912level0_row0\" class=\"row_heading level0 row0\" >0</th>\n",
       "                        <td id=\"T_0f9a44b0_d6de_11eb_b0a3_000d3ae2b912row0_col0\" class=\"data row0 col0\" >1.06e+04</td>\n",
       "                        <td id=\"T_0f9a44b0_d6de_11eb_b0a3_000d3ae2b912row0_col1\" class=\"data row0 col1\" >1.15e+04</td>\n",
       "                        <td id=\"T_0f9a44b0_d6de_11eb_b0a3_000d3ae2b912row0_col2\" class=\"data row0 col2\" >0.444</td>\n",
       "                        <td id=\"T_0f9a44b0_d6de_11eb_b0a3_000d3ae2b912row0_col3\" class=\"data row0 col3\" >0.51</td>\n",
       "            </tr>\n",
       "            <tr>\n",
       "                        <th id=\"T_0f9a44b0_d6de_11eb_b0a3_000d3ae2b912level0_row1\" class=\"row_heading level0 row1\" >5</th>\n",
       "                        <td id=\"T_0f9a44b0_d6de_11eb_b0a3_000d3ae2b912row1_col0\" class=\"data row1 col0\" >1.09e+04</td>\n",
       "                        <td id=\"T_0f9a44b0_d6de_11eb_b0a3_000d3ae2b912row1_col1\" class=\"data row1 col1\" >1.17e+04</td>\n",
       "                        <td id=\"T_0f9a44b0_d6de_11eb_b0a3_000d3ae2b912row1_col2\" class=\"data row1 col2\" >0.162</td>\n",
       "                        <td id=\"T_0f9a44b0_d6de_11eb_b0a3_000d3ae2b912row1_col3\" class=\"data row1 col3\" >0.201</td>\n",
       "            </tr>\n",
       "            <tr>\n",
       "                        <th id=\"T_0f9a44b0_d6de_11eb_b0a3_000d3ae2b912level0_row2\" class=\"row_heading level0 row2\" >10</th>\n",
       "                        <td id=\"T_0f9a44b0_d6de_11eb_b0a3_000d3ae2b912row2_col0\" class=\"data row2 col0\" >1.07e+04</td>\n",
       "                        <td id=\"T_0f9a44b0_d6de_11eb_b0a3_000d3ae2b912row2_col1\" class=\"data row2 col1\" >1.14e+04</td>\n",
       "                        <td id=\"T_0f9a44b0_d6de_11eb_b0a3_000d3ae2b912row2_col2\" class=\"data row2 col2\" >0.101</td>\n",
       "                        <td id=\"T_0f9a44b0_d6de_11eb_b0a3_000d3ae2b912row2_col3\" class=\"data row2 col3\" >0.127</td>\n",
       "            </tr>\n",
       "            <tr>\n",
       "                        <th id=\"T_0f9a44b0_d6de_11eb_b0a3_000d3ae2b912level0_row3\" class=\"row_heading level0 row3\" >15</th>\n",
       "                        <td id=\"T_0f9a44b0_d6de_11eb_b0a3_000d3ae2b912row3_col0\" class=\"data row3 col0\" >1.03e+04</td>\n",
       "                        <td id=\"T_0f9a44b0_d6de_11eb_b0a3_000d3ae2b912row3_col1\" class=\"data row3 col1\" >1.1e+04</td>\n",
       "                        <td id=\"T_0f9a44b0_d6de_11eb_b0a3_000d3ae2b912row3_col2\" class=\"data row3 col2\" >0.0769</td>\n",
       "                        <td id=\"T_0f9a44b0_d6de_11eb_b0a3_000d3ae2b912row3_col3\" class=\"data row3 col3\" >0.0955</td>\n",
       "            </tr>\n",
       "    </tbody></table>"
      ],
      "text/plain": [
       "<pandas.io.formats.style.Styler at 0x7efcf24b6e90>"
      ]
     },
     "metadata": {},
     "output_type": "display_data"
    },
    {
     "name": "stdout",
     "output_type": "stream",
     "text": [
      "[\u001b[1mtardis.simulation.base\u001b[0m][\u001b[1;37mINFO\u001b[0m   ]  None (\u001b[1mbase.py\u001b[0m:433)\n"
     ]
    },
    {
     "name": "stdout",
     "output_type": "stream",
     "text": [
      "[\u001b[1mtardis.simulation.base\u001b[0m][\u001b[1;37mINFO\u001b[0m   ]  \n",
      "\tCurrent t_inner = 11314.135 K\n",
      "\tExpected t_inner for next iteration = 10047.862 K\n",
      " (\u001b[1mbase.py\u001b[0m:448)\n"
     ]
    },
    {
     "name": "stdout",
     "output_type": "stream",
     "text": [
      "[\u001b[1mtardis.simulation.base\u001b[0m][\u001b[1;37mINFO\u001b[0m   ]  \n",
      "\tStarting iteration 7 of 20 (\u001b[1mbase.py\u001b[0m:325)\n"
     ]
    },
    {
     "name": "stdout",
     "output_type": "stream",
     "text": [
      "[\u001b[1mtardis.simulation.base\u001b[0m][\u001b[1;37mINFO\u001b[0m   ]  \n",
      "\tLuminosity emitted   = 8.399e+42 erg / s\n",
      "\tLuminosity absorbed  = 2.700e+42 erg / s\n",
      "\tLuminosity requested = 1.059e+43 erg / s\n",
      " (\u001b[1mbase.py\u001b[0m:453)\n"
     ]
    },
    {
     "name": "stdout",
     "output_type": "stream",
     "text": [
      "[\u001b[1mtardis.simulation.base\u001b[0m][\u001b[1;37mINFO\u001b[0m   ]  \n",
      "\tPlasma stratification: (\u001b[1mbase.py\u001b[0m:430)\n"
     ]
    },
    {
     "data": {
      "text/html": [
       "<style  type=\"text/css\" >\n",
       "</style><table id=\"T_0fee9416_d6de_11eb_b0a3_000d3ae2b912\" ><thead>    <tr>        <th class=\"index_name level0\" >Shell No.</th>        <th class=\"col_heading level0 col0\" >t_rad</th>        <th class=\"col_heading level0 col1\" >next_t_rad</th>        <th class=\"col_heading level0 col2\" >w</th>        <th class=\"col_heading level0 col3\" >next_w</th>    </tr></thead><tbody>\n",
       "                <tr>\n",
       "                        <th id=\"T_0fee9416_d6de_11eb_b0a3_000d3ae2b912level0_row0\" class=\"row_heading level0 row0\" >0</th>\n",
       "                        <td id=\"T_0fee9416_d6de_11eb_b0a3_000d3ae2b912row0_col0\" class=\"data row0 col0\" >1.15e+04</td>\n",
       "                        <td id=\"T_0fee9416_d6de_11eb_b0a3_000d3ae2b912row0_col1\" class=\"data row0 col1\" >1.06e+04</td>\n",
       "                        <td id=\"T_0fee9416_d6de_11eb_b0a3_000d3ae2b912row0_col2\" class=\"data row0 col2\" >0.51</td>\n",
       "                        <td id=\"T_0fee9416_d6de_11eb_b0a3_000d3ae2b912row0_col3\" class=\"data row0 col3\" >0.443</td>\n",
       "            </tr>\n",
       "            <tr>\n",
       "                        <th id=\"T_0fee9416_d6de_11eb_b0a3_000d3ae2b912level0_row1\" class=\"row_heading level0 row1\" >5</th>\n",
       "                        <td id=\"T_0fee9416_d6de_11eb_b0a3_000d3ae2b912row1_col0\" class=\"data row1 col0\" >1.17e+04</td>\n",
       "                        <td id=\"T_0fee9416_d6de_11eb_b0a3_000d3ae2b912row1_col1\" class=\"data row1 col1\" >1.1e+04</td>\n",
       "                        <td id=\"T_0fee9416_d6de_11eb_b0a3_000d3ae2b912row1_col2\" class=\"data row1 col2\" >0.201</td>\n",
       "                        <td id=\"T_0fee9416_d6de_11eb_b0a3_000d3ae2b912row1_col3\" class=\"data row1 col3\" >0.158</td>\n",
       "            </tr>\n",
       "            <tr>\n",
       "                        <th id=\"T_0fee9416_d6de_11eb_b0a3_000d3ae2b912level0_row2\" class=\"row_heading level0 row2\" >10</th>\n",
       "                        <td id=\"T_0fee9416_d6de_11eb_b0a3_000d3ae2b912row2_col0\" class=\"data row2 col0\" >1.14e+04</td>\n",
       "                        <td id=\"T_0fee9416_d6de_11eb_b0a3_000d3ae2b912row2_col1\" class=\"data row2 col1\" >1.07e+04</td>\n",
       "                        <td id=\"T_0fee9416_d6de_11eb_b0a3_000d3ae2b912row2_col2\" class=\"data row2 col2\" >0.127</td>\n",
       "                        <td id=\"T_0fee9416_d6de_11eb_b0a3_000d3ae2b912row2_col3\" class=\"data row2 col3\" >0.102</td>\n",
       "            </tr>\n",
       "            <tr>\n",
       "                        <th id=\"T_0fee9416_d6de_11eb_b0a3_000d3ae2b912level0_row3\" class=\"row_heading level0 row3\" >15</th>\n",
       "                        <td id=\"T_0fee9416_d6de_11eb_b0a3_000d3ae2b912row3_col0\" class=\"data row3 col0\" >1.1e+04</td>\n",
       "                        <td id=\"T_0fee9416_d6de_11eb_b0a3_000d3ae2b912row3_col1\" class=\"data row3 col1\" >1.03e+04</td>\n",
       "                        <td id=\"T_0fee9416_d6de_11eb_b0a3_000d3ae2b912row3_col2\" class=\"data row3 col2\" >0.0955</td>\n",
       "                        <td id=\"T_0fee9416_d6de_11eb_b0a3_000d3ae2b912row3_col3\" class=\"data row3 col3\" >0.0768</td>\n",
       "            </tr>\n",
       "    </tbody></table>"
      ],
      "text/plain": [
       "<pandas.io.formats.style.Styler at 0x7efd02ceb1d0>"
      ]
     },
     "metadata": {},
     "output_type": "display_data"
    },
    {
     "name": "stdout",
     "output_type": "stream",
     "text": [
      "[\u001b[1mtardis.simulation.base\u001b[0m][\u001b[1;37mINFO\u001b[0m   ]  None (\u001b[1mbase.py\u001b[0m:433)\n"
     ]
    },
    {
     "name": "stdout",
     "output_type": "stream",
     "text": [
      "[\u001b[1mtardis.simulation.base\u001b[0m][\u001b[1;37mINFO\u001b[0m   ]  \n",
      "\tCurrent t_inner = 10047.862 K\n",
      "\tExpected t_inner for next iteration = 11284.172 K\n",
      " (\u001b[1mbase.py\u001b[0m:448)\n"
     ]
    },
    {
     "name": "stdout",
     "output_type": "stream",
     "text": [
      "[\u001b[1mtardis.simulation.base\u001b[0m][\u001b[1;37mINFO\u001b[0m   ]  \n",
      "\tStarting iteration 8 of 20 (\u001b[1mbase.py\u001b[0m:325)\n"
     ]
    },
    {
     "name": "stdout",
     "output_type": "stream",
     "text": [
      "[\u001b[1mtardis.simulation.base\u001b[0m][\u001b[1;37mINFO\u001b[0m   ]  \n",
      "\tLuminosity emitted   = 1.334e+43 erg / s\n",
      "\tLuminosity absorbed  = 4.312e+42 erg / s\n",
      "\tLuminosity requested = 1.059e+43 erg / s\n",
      " (\u001b[1mbase.py\u001b[0m:453)\n"
     ]
    },
    {
     "name": "stdout",
     "output_type": "stream",
     "text": [
      "[\u001b[1mtardis.simulation.base\u001b[0m][\u001b[1;37mINFO\u001b[0m   ]  \n",
      "\tPlasma stratification: (\u001b[1mbase.py\u001b[0m:430)\n"
     ]
    },
    {
     "data": {
      "text/html": [
       "<style  type=\"text/css\" >\n",
       "</style><table id=\"T_1041cb54_d6de_11eb_b0a3_000d3ae2b912\" ><thead>    <tr>        <th class=\"index_name level0\" >Shell No.</th>        <th class=\"col_heading level0 col0\" >t_rad</th>        <th class=\"col_heading level0 col1\" >next_t_rad</th>        <th class=\"col_heading level0 col2\" >w</th>        <th class=\"col_heading level0 col3\" >next_w</th>    </tr></thead><tbody>\n",
       "                <tr>\n",
       "                        <th id=\"T_1041cb54_d6de_11eb_b0a3_000d3ae2b912level0_row0\" class=\"row_heading level0 row0\" >0</th>\n",
       "                        <td id=\"T_1041cb54_d6de_11eb_b0a3_000d3ae2b912row0_col0\" class=\"data row0 col0\" >1.06e+04</td>\n",
       "                        <td id=\"T_1041cb54_d6de_11eb_b0a3_000d3ae2b912row0_col1\" class=\"data row0 col1\" >1.15e+04</td>\n",
       "                        <td id=\"T_1041cb54_d6de_11eb_b0a3_000d3ae2b912row0_col2\" class=\"data row0 col2\" >0.443</td>\n",
       "                        <td id=\"T_1041cb54_d6de_11eb_b0a3_000d3ae2b912row0_col3\" class=\"data row0 col3\" >0.502</td>\n",
       "            </tr>\n",
       "            <tr>\n",
       "                        <th id=\"T_1041cb54_d6de_11eb_b0a3_000d3ae2b912level0_row1\" class=\"row_heading level0 row1\" >5</th>\n",
       "                        <td id=\"T_1041cb54_d6de_11eb_b0a3_000d3ae2b912row1_col0\" class=\"data row1 col0\" >1.1e+04</td>\n",
       "                        <td id=\"T_1041cb54_d6de_11eb_b0a3_000d3ae2b912row1_col1\" class=\"data row1 col1\" >1.17e+04</td>\n",
       "                        <td id=\"T_1041cb54_d6de_11eb_b0a3_000d3ae2b912row1_col2\" class=\"data row1 col2\" >0.158</td>\n",
       "                        <td id=\"T_1041cb54_d6de_11eb_b0a3_000d3ae2b912row1_col3\" class=\"data row1 col3\" >0.197</td>\n",
       "            </tr>\n",
       "            <tr>\n",
       "                        <th id=\"T_1041cb54_d6de_11eb_b0a3_000d3ae2b912level0_row2\" class=\"row_heading level0 row2\" >10</th>\n",
       "                        <td id=\"T_1041cb54_d6de_11eb_b0a3_000d3ae2b912row2_col0\" class=\"data row2 col0\" >1.07e+04</td>\n",
       "                        <td id=\"T_1041cb54_d6de_11eb_b0a3_000d3ae2b912row2_col1\" class=\"data row2 col1\" >1.14e+04</td>\n",
       "                        <td id=\"T_1041cb54_d6de_11eb_b0a3_000d3ae2b912row2_col2\" class=\"data row2 col2\" >0.102</td>\n",
       "                        <td id=\"T_1041cb54_d6de_11eb_b0a3_000d3ae2b912row2_col3\" class=\"data row2 col3\" >0.124</td>\n",
       "            </tr>\n",
       "            <tr>\n",
       "                        <th id=\"T_1041cb54_d6de_11eb_b0a3_000d3ae2b912level0_row3\" class=\"row_heading level0 row3\" >15</th>\n",
       "                        <td id=\"T_1041cb54_d6de_11eb_b0a3_000d3ae2b912row3_col0\" class=\"data row3 col0\" >1.03e+04</td>\n",
       "                        <td id=\"T_1041cb54_d6de_11eb_b0a3_000d3ae2b912row3_col1\" class=\"data row3 col1\" >1.1e+04</td>\n",
       "                        <td id=\"T_1041cb54_d6de_11eb_b0a3_000d3ae2b912row3_col2\" class=\"data row3 col2\" >0.0768</td>\n",
       "                        <td id=\"T_1041cb54_d6de_11eb_b0a3_000d3ae2b912row3_col3\" class=\"data row3 col3\" >0.0941</td>\n",
       "            </tr>\n",
       "    </tbody></table>"
      ],
      "text/plain": [
       "<pandas.io.formats.style.Styler at 0x7efd02cebc10>"
      ]
     },
     "metadata": {},
     "output_type": "display_data"
    },
    {
     "name": "stdout",
     "output_type": "stream",
     "text": [
      "[\u001b[1mtardis.simulation.base\u001b[0m][\u001b[1;37mINFO\u001b[0m   ]  None (\u001b[1mbase.py\u001b[0m:433)\n"
     ]
    },
    {
     "name": "stdout",
     "output_type": "stream",
     "text": [
      "[\u001b[1mtardis.simulation.base\u001b[0m][\u001b[1;37mINFO\u001b[0m   ]  \n",
      "\tCurrent t_inner = 11284.172 K\n",
      "\tExpected t_inner for next iteration = 10056.590 K\n",
      " (\u001b[1mbase.py\u001b[0m:448)\n"
     ]
    },
    {
     "name": "stdout",
     "output_type": "stream",
     "text": [
      "[\u001b[1mtardis.simulation.base\u001b[0m][\u001b[1;37mINFO\u001b[0m   ]  \n",
      "\tStarting iteration 9 of 20 (\u001b[1mbase.py\u001b[0m:325)\n"
     ]
    },
    {
     "name": "stdout",
     "output_type": "stream",
     "text": [
      "[\u001b[1mtardis.simulation.base\u001b[0m][\u001b[1;37mINFO\u001b[0m   ]  \n",
      "\tLuminosity emitted   = 8.442e+42 erg / s\n",
      "\tLuminosity absorbed  = 2.693e+42 erg / s\n",
      "\tLuminosity requested = 1.059e+43 erg / s\n",
      " (\u001b[1mbase.py\u001b[0m:453)\n"
     ]
    },
    {
     "name": "stdout",
     "output_type": "stream",
     "text": [
      "[\u001b[1mtardis.simulation.base\u001b[0m][\u001b[1;37mINFO\u001b[0m   ]  \n",
      "\tPlasma stratification: (\u001b[1mbase.py\u001b[0m:430)\n"
     ]
    },
    {
     "data": {
      "text/html": [
       "<style  type=\"text/css\" >\n",
       "</style><table id=\"T_10953244_d6de_11eb_b0a3_000d3ae2b912\" ><thead>    <tr>        <th class=\"index_name level0\" >Shell No.</th>        <th class=\"col_heading level0 col0\" >t_rad</th>        <th class=\"col_heading level0 col1\" >next_t_rad</th>        <th class=\"col_heading level0 col2\" >w</th>        <th class=\"col_heading level0 col3\" >next_w</th>    </tr></thead><tbody>\n",
       "                <tr>\n",
       "                        <th id=\"T_10953244_d6de_11eb_b0a3_000d3ae2b912level0_row0\" class=\"row_heading level0 row0\" >0</th>\n",
       "                        <td id=\"T_10953244_d6de_11eb_b0a3_000d3ae2b912row0_col0\" class=\"data row0 col0\" >1.15e+04</td>\n",
       "                        <td id=\"T_10953244_d6de_11eb_b0a3_000d3ae2b912row0_col1\" class=\"data row0 col1\" >1.06e+04</td>\n",
       "                        <td id=\"T_10953244_d6de_11eb_b0a3_000d3ae2b912row0_col2\" class=\"data row0 col2\" >0.502</td>\n",
       "                        <td id=\"T_10953244_d6de_11eb_b0a3_000d3ae2b912row0_col3\" class=\"data row0 col3\" >0.443</td>\n",
       "            </tr>\n",
       "            <tr>\n",
       "                        <th id=\"T_10953244_d6de_11eb_b0a3_000d3ae2b912level0_row1\" class=\"row_heading level0 row1\" >5</th>\n",
       "                        <td id=\"T_10953244_d6de_11eb_b0a3_000d3ae2b912row1_col0\" class=\"data row1 col0\" >1.17e+04</td>\n",
       "                        <td id=\"T_10953244_d6de_11eb_b0a3_000d3ae2b912row1_col1\" class=\"data row1 col1\" >1.1e+04</td>\n",
       "                        <td id=\"T_10953244_d6de_11eb_b0a3_000d3ae2b912row1_col2\" class=\"data row1 col2\" >0.197</td>\n",
       "                        <td id=\"T_10953244_d6de_11eb_b0a3_000d3ae2b912row1_col3\" class=\"data row1 col3\" >0.161</td>\n",
       "            </tr>\n",
       "            <tr>\n",
       "                        <th id=\"T_10953244_d6de_11eb_b0a3_000d3ae2b912level0_row2\" class=\"row_heading level0 row2\" >10</th>\n",
       "                        <td id=\"T_10953244_d6de_11eb_b0a3_000d3ae2b912row2_col0\" class=\"data row2 col0\" >1.14e+04</td>\n",
       "                        <td id=\"T_10953244_d6de_11eb_b0a3_000d3ae2b912row2_col1\" class=\"data row2 col1\" >1.07e+04</td>\n",
       "                        <td id=\"T_10953244_d6de_11eb_b0a3_000d3ae2b912row2_col2\" class=\"data row2 col2\" >0.124</td>\n",
       "                        <td id=\"T_10953244_d6de_11eb_b0a3_000d3ae2b912row2_col3\" class=\"data row2 col3\" >0.102</td>\n",
       "            </tr>\n",
       "            <tr>\n",
       "                        <th id=\"T_10953244_d6de_11eb_b0a3_000d3ae2b912level0_row3\" class=\"row_heading level0 row3\" >15</th>\n",
       "                        <td id=\"T_10953244_d6de_11eb_b0a3_000d3ae2b912row3_col0\" class=\"data row3 col0\" >1.1e+04</td>\n",
       "                        <td id=\"T_10953244_d6de_11eb_b0a3_000d3ae2b912row3_col1\" class=\"data row3 col1\" >1.04e+04</td>\n",
       "                        <td id=\"T_10953244_d6de_11eb_b0a3_000d3ae2b912row3_col2\" class=\"data row3 col2\" >0.0941</td>\n",
       "                        <td id=\"T_10953244_d6de_11eb_b0a3_000d3ae2b912row3_col3\" class=\"data row3 col3\" >0.0753</td>\n",
       "            </tr>\n",
       "    </tbody></table>"
      ],
      "text/plain": [
       "<pandas.io.formats.style.Styler at 0x7efd02c8bd90>"
      ]
     },
     "metadata": {},
     "output_type": "display_data"
    },
    {
     "name": "stdout",
     "output_type": "stream",
     "text": [
      "[\u001b[1mtardis.simulation.base\u001b[0m][\u001b[1;37mINFO\u001b[0m   ]  None (\u001b[1mbase.py\u001b[0m:433)\n"
     ]
    },
    {
     "name": "stdout",
     "output_type": "stream",
     "text": [
      "[\u001b[1mtardis.simulation.base\u001b[0m][\u001b[1;37mINFO\u001b[0m   ]  \n",
      "\tCurrent t_inner = 10056.590 K\n",
      "\tExpected t_inner for next iteration = 11264.873 K\n",
      " (\u001b[1mbase.py\u001b[0m:448)\n"
     ]
    },
    {
     "name": "stdout",
     "output_type": "stream",
     "text": [
      "[\u001b[1mtardis.simulation.base\u001b[0m][\u001b[1;37mINFO\u001b[0m   ]  \n",
      "\tStarting iteration 10 of 20 (\u001b[1mbase.py\u001b[0m:325)\n"
     ]
    },
    {
     "name": "stdout",
     "output_type": "stream",
     "text": [
      "[\u001b[1mtardis.simulation.base\u001b[0m][\u001b[1;37mINFO\u001b[0m   ]  \n",
      "\tLuminosity emitted   = 1.327e+43 erg / s\n",
      "\tLuminosity absorbed  = 4.253e+42 erg / s\n",
      "\tLuminosity requested = 1.059e+43 erg / s\n",
      " (\u001b[1mbase.py\u001b[0m:453)\n"
     ]
    },
    {
     "name": "stdout",
     "output_type": "stream",
     "text": [
      "[\u001b[1mtardis.simulation.base\u001b[0m][\u001b[1;37mINFO\u001b[0m   ]  \n",
      "\tPlasma stratification: (\u001b[1mbase.py\u001b[0m:430)\n"
     ]
    },
    {
     "data": {
      "text/html": [
       "<style  type=\"text/css\" >\n",
       "</style><table id=\"T_10e8aad2_d6de_11eb_b0a3_000d3ae2b912\" ><thead>    <tr>        <th class=\"index_name level0\" >Shell No.</th>        <th class=\"col_heading level0 col0\" >t_rad</th>        <th class=\"col_heading level0 col1\" >next_t_rad</th>        <th class=\"col_heading level0 col2\" >w</th>        <th class=\"col_heading level0 col3\" >next_w</th>    </tr></thead><tbody>\n",
       "                <tr>\n",
       "                        <th id=\"T_10e8aad2_d6de_11eb_b0a3_000d3ae2b912level0_row0\" class=\"row_heading level0 row0\" >0</th>\n",
       "                        <td id=\"T_10e8aad2_d6de_11eb_b0a3_000d3ae2b912row0_col0\" class=\"data row0 col0\" >1.06e+04</td>\n",
       "                        <td id=\"T_10e8aad2_d6de_11eb_b0a3_000d3ae2b912row0_col1\" class=\"data row0 col1\" >1.15e+04</td>\n",
       "                        <td id=\"T_10e8aad2_d6de_11eb_b0a3_000d3ae2b912row0_col2\" class=\"data row0 col2\" >0.443</td>\n",
       "                        <td id=\"T_10e8aad2_d6de_11eb_b0a3_000d3ae2b912row0_col3\" class=\"data row0 col3\" >0.505</td>\n",
       "            </tr>\n",
       "            <tr>\n",
       "                        <th id=\"T_10e8aad2_d6de_11eb_b0a3_000d3ae2b912level0_row1\" class=\"row_heading level0 row1\" >5</th>\n",
       "                        <td id=\"T_10e8aad2_d6de_11eb_b0a3_000d3ae2b912row1_col0\" class=\"data row1 col0\" >1.1e+04</td>\n",
       "                        <td id=\"T_10e8aad2_d6de_11eb_b0a3_000d3ae2b912row1_col1\" class=\"data row1 col1\" >1.17e+04</td>\n",
       "                        <td id=\"T_10e8aad2_d6de_11eb_b0a3_000d3ae2b912row1_col2\" class=\"data row1 col2\" >0.161</td>\n",
       "                        <td id=\"T_10e8aad2_d6de_11eb_b0a3_000d3ae2b912row1_col3\" class=\"data row1 col3\" >0.197</td>\n",
       "            </tr>\n",
       "            <tr>\n",
       "                        <th id=\"T_10e8aad2_d6de_11eb_b0a3_000d3ae2b912level0_row2\" class=\"row_heading level0 row2\" >10</th>\n",
       "                        <td id=\"T_10e8aad2_d6de_11eb_b0a3_000d3ae2b912row2_col0\" class=\"data row2 col0\" >1.07e+04</td>\n",
       "                        <td id=\"T_10e8aad2_d6de_11eb_b0a3_000d3ae2b912row2_col1\" class=\"data row2 col1\" >1.15e+04</td>\n",
       "                        <td id=\"T_10e8aad2_d6de_11eb_b0a3_000d3ae2b912row2_col2\" class=\"data row2 col2\" >0.102</td>\n",
       "                        <td id=\"T_10e8aad2_d6de_11eb_b0a3_000d3ae2b912row2_col3\" class=\"data row2 col3\" >0.122</td>\n",
       "            </tr>\n",
       "            <tr>\n",
       "                        <th id=\"T_10e8aad2_d6de_11eb_b0a3_000d3ae2b912level0_row3\" class=\"row_heading level0 row3\" >15</th>\n",
       "                        <td id=\"T_10e8aad2_d6de_11eb_b0a3_000d3ae2b912row3_col0\" class=\"data row3 col0\" >1.04e+04</td>\n",
       "                        <td id=\"T_10e8aad2_d6de_11eb_b0a3_000d3ae2b912row3_col1\" class=\"data row3 col1\" >1.11e+04</td>\n",
       "                        <td id=\"T_10e8aad2_d6de_11eb_b0a3_000d3ae2b912row3_col2\" class=\"data row3 col2\" >0.0753</td>\n",
       "                        <td id=\"T_10e8aad2_d6de_11eb_b0a3_000d3ae2b912row3_col3\" class=\"data row3 col3\" >0.0933</td>\n",
       "            </tr>\n",
       "    </tbody></table>"
      ],
      "text/plain": [
       "<pandas.io.formats.style.Styler at 0x7efcf2557810>"
      ]
     },
     "metadata": {},
     "output_type": "display_data"
    },
    {
     "name": "stdout",
     "output_type": "stream",
     "text": [
      "[\u001b[1mtardis.simulation.base\u001b[0m][\u001b[1;37mINFO\u001b[0m   ]  None (\u001b[1mbase.py\u001b[0m:433)\n"
     ]
    },
    {
     "name": "stdout",
     "output_type": "stream",
     "text": [
      "[\u001b[1mtardis.simulation.base\u001b[0m][\u001b[1;37mINFO\u001b[0m   ]  \n",
      "\tCurrent t_inner = 11264.873 K\n",
      "\tExpected t_inner for next iteration = 10062.930 K\n",
      " (\u001b[1mbase.py\u001b[0m:448)\n"
     ]
    },
    {
     "name": "stdout",
     "output_type": "stream",
     "text": [
      "[\u001b[1mtardis.simulation.base\u001b[0m][\u001b[1;37mINFO\u001b[0m   ]  \n",
      "\tStarting iteration 11 of 20 (\u001b[1mbase.py\u001b[0m:325)\n"
     ]
    },
    {
     "name": "stdout",
     "output_type": "stream",
     "text": [
      "[\u001b[1mtardis.simulation.base\u001b[0m][\u001b[1;37mINFO\u001b[0m   ]  \n",
      "\tLuminosity emitted   = 8.521e+42 erg / s\n",
      "\tLuminosity absorbed  = 2.645e+42 erg / s\n",
      "\tLuminosity requested = 1.059e+43 erg / s\n",
      " (\u001b[1mbase.py\u001b[0m:453)\n"
     ]
    },
    {
     "name": "stdout",
     "output_type": "stream",
     "text": [
      "[\u001b[1mtardis.simulation.base\u001b[0m][\u001b[1;37mINFO\u001b[0m   ]  \n",
      "\tPlasma stratification: (\u001b[1mbase.py\u001b[0m:430)\n"
     ]
    },
    {
     "data": {
      "text/html": [
       "<style  type=\"text/css\" >\n",
       "</style><table id=\"T_113d6932_d6de_11eb_b0a3_000d3ae2b912\" ><thead>    <tr>        <th class=\"index_name level0\" >Shell No.</th>        <th class=\"col_heading level0 col0\" >t_rad</th>        <th class=\"col_heading level0 col1\" >next_t_rad</th>        <th class=\"col_heading level0 col2\" >w</th>        <th class=\"col_heading level0 col3\" >next_w</th>    </tr></thead><tbody>\n",
       "                <tr>\n",
       "                        <th id=\"T_113d6932_d6de_11eb_b0a3_000d3ae2b912level0_row0\" class=\"row_heading level0 row0\" >0</th>\n",
       "                        <td id=\"T_113d6932_d6de_11eb_b0a3_000d3ae2b912row0_col0\" class=\"data row0 col0\" >1.15e+04</td>\n",
       "                        <td id=\"T_113d6932_d6de_11eb_b0a3_000d3ae2b912row0_col1\" class=\"data row0 col1\" >1.06e+04</td>\n",
       "                        <td id=\"T_113d6932_d6de_11eb_b0a3_000d3ae2b912row0_col2\" class=\"data row0 col2\" >0.505</td>\n",
       "                        <td id=\"T_113d6932_d6de_11eb_b0a3_000d3ae2b912row0_col3\" class=\"data row0 col3\" >0.444</td>\n",
       "            </tr>\n",
       "            <tr>\n",
       "                        <th id=\"T_113d6932_d6de_11eb_b0a3_000d3ae2b912level0_row1\" class=\"row_heading level0 row1\" >5</th>\n",
       "                        <td id=\"T_113d6932_d6de_11eb_b0a3_000d3ae2b912row1_col0\" class=\"data row1 col0\" >1.17e+04</td>\n",
       "                        <td id=\"T_113d6932_d6de_11eb_b0a3_000d3ae2b912row1_col1\" class=\"data row1 col1\" >1.1e+04</td>\n",
       "                        <td id=\"T_113d6932_d6de_11eb_b0a3_000d3ae2b912row1_col2\" class=\"data row1 col2\" >0.197</td>\n",
       "                        <td id=\"T_113d6932_d6de_11eb_b0a3_000d3ae2b912row1_col3\" class=\"data row1 col3\" >0.162</td>\n",
       "            </tr>\n",
       "            <tr>\n",
       "                        <th id=\"T_113d6932_d6de_11eb_b0a3_000d3ae2b912level0_row2\" class=\"row_heading level0 row2\" >10</th>\n",
       "                        <td id=\"T_113d6932_d6de_11eb_b0a3_000d3ae2b912row2_col0\" class=\"data row2 col0\" >1.15e+04</td>\n",
       "                        <td id=\"T_113d6932_d6de_11eb_b0a3_000d3ae2b912row2_col1\" class=\"data row2 col1\" >1.09e+04</td>\n",
       "                        <td id=\"T_113d6932_d6de_11eb_b0a3_000d3ae2b912row2_col2\" class=\"data row2 col2\" >0.122</td>\n",
       "                        <td id=\"T_113d6932_d6de_11eb_b0a3_000d3ae2b912row2_col3\" class=\"data row2 col3\" >0.0958</td>\n",
       "            </tr>\n",
       "            <tr>\n",
       "                        <th id=\"T_113d6932_d6de_11eb_b0a3_000d3ae2b912level0_row3\" class=\"row_heading level0 row3\" >15</th>\n",
       "                        <td id=\"T_113d6932_d6de_11eb_b0a3_000d3ae2b912row3_col0\" class=\"data row3 col0\" >1.11e+04</td>\n",
       "                        <td id=\"T_113d6932_d6de_11eb_b0a3_000d3ae2b912row3_col1\" class=\"data row3 col1\" >1.05e+04</td>\n",
       "                        <td id=\"T_113d6932_d6de_11eb_b0a3_000d3ae2b912row3_col2\" class=\"data row3 col2\" >0.0933</td>\n",
       "                        <td id=\"T_113d6932_d6de_11eb_b0a3_000d3ae2b912row3_col3\" class=\"data row3 col3\" >0.0744</td>\n",
       "            </tr>\n",
       "    </tbody></table>"
      ],
      "text/plain": [
       "<pandas.io.formats.style.Styler at 0x7efcf267a710>"
      ]
     },
     "metadata": {},
     "output_type": "display_data"
    },
    {
     "name": "stdout",
     "output_type": "stream",
     "text": [
      "[\u001b[1mtardis.simulation.base\u001b[0m][\u001b[1;37mINFO\u001b[0m   ]  None (\u001b[1mbase.py\u001b[0m:433)\n"
     ]
    },
    {
     "name": "stdout",
     "output_type": "stream",
     "text": [
      "[\u001b[1mtardis.simulation.base\u001b[0m][\u001b[1;37mINFO\u001b[0m   ]  \n",
      "\tCurrent t_inner = 10062.930 K\n",
      "\tExpected t_inner for next iteration = 11220.057 K\n",
      " (\u001b[1mbase.py\u001b[0m:448)\n"
     ]
    },
    {
     "name": "stdout",
     "output_type": "stream",
     "text": [
      "[\u001b[1mtardis.simulation.base\u001b[0m][\u001b[1;37mINFO\u001b[0m   ]  \n",
      "\tStarting iteration 12 of 20 (\u001b[1mbase.py\u001b[0m:325)\n"
     ]
    },
    {
     "name": "stdout",
     "output_type": "stream",
     "text": [
      "[\u001b[1mtardis.simulation.base\u001b[0m][\u001b[1;37mINFO\u001b[0m   ]  \n",
      "\tLuminosity emitted   = 1.302e+43 erg / s\n",
      "\tLuminosity absorbed  = 4.230e+42 erg / s\n",
      "\tLuminosity requested = 1.059e+43 erg / s\n",
      " (\u001b[1mbase.py\u001b[0m:453)\n"
     ]
    },
    {
     "name": "stdout",
     "output_type": "stream",
     "text": [
      "[\u001b[1mtardis.simulation.base\u001b[0m][\u001b[1;37mINFO\u001b[0m   ]  \n",
      "\tPlasma stratification: (\u001b[1mbase.py\u001b[0m:430)\n"
     ]
    },
    {
     "data": {
      "text/html": [
       "<style  type=\"text/css\" >\n",
       "</style><table id=\"T_118f9e00_d6de_11eb_b0a3_000d3ae2b912\" ><thead>    <tr>        <th class=\"index_name level0\" >Shell No.</th>        <th class=\"col_heading level0 col0\" >t_rad</th>        <th class=\"col_heading level0 col1\" >next_t_rad</th>        <th class=\"col_heading level0 col2\" >w</th>        <th class=\"col_heading level0 col3\" >next_w</th>    </tr></thead><tbody>\n",
       "                <tr>\n",
       "                        <th id=\"T_118f9e00_d6de_11eb_b0a3_000d3ae2b912level0_row0\" class=\"row_heading level0 row0\" >0</th>\n",
       "                        <td id=\"T_118f9e00_d6de_11eb_b0a3_000d3ae2b912row0_col0\" class=\"data row0 col0\" >1.06e+04</td>\n",
       "                        <td id=\"T_118f9e00_d6de_11eb_b0a3_000d3ae2b912row0_col1\" class=\"data row0 col1\" >1.16e+04</td>\n",
       "                        <td id=\"T_118f9e00_d6de_11eb_b0a3_000d3ae2b912row0_col2\" class=\"data row0 col2\" >0.444</td>\n",
       "                        <td id=\"T_118f9e00_d6de_11eb_b0a3_000d3ae2b912row0_col3\" class=\"data row0 col3\" >0.486</td>\n",
       "            </tr>\n",
       "            <tr>\n",
       "                        <th id=\"T_118f9e00_d6de_11eb_b0a3_000d3ae2b912level0_row1\" class=\"row_heading level0 row1\" >5</th>\n",
       "                        <td id=\"T_118f9e00_d6de_11eb_b0a3_000d3ae2b912row1_col0\" class=\"data row1 col0\" >1.1e+04</td>\n",
       "                        <td id=\"T_118f9e00_d6de_11eb_b0a3_000d3ae2b912row1_col1\" class=\"data row1 col1\" >1.18e+04</td>\n",
       "                        <td id=\"T_118f9e00_d6de_11eb_b0a3_000d3ae2b912row1_col2\" class=\"data row1 col2\" >0.162</td>\n",
       "                        <td id=\"T_118f9e00_d6de_11eb_b0a3_000d3ae2b912row1_col3\" class=\"data row1 col3\" >0.19</td>\n",
       "            </tr>\n",
       "            <tr>\n",
       "                        <th id=\"T_118f9e00_d6de_11eb_b0a3_000d3ae2b912level0_row2\" class=\"row_heading level0 row2\" >10</th>\n",
       "                        <td id=\"T_118f9e00_d6de_11eb_b0a3_000d3ae2b912row2_col0\" class=\"data row2 col0\" >1.09e+04</td>\n",
       "                        <td id=\"T_118f9e00_d6de_11eb_b0a3_000d3ae2b912row2_col1\" class=\"data row2 col1\" >1.14e+04</td>\n",
       "                        <td id=\"T_118f9e00_d6de_11eb_b0a3_000d3ae2b912row2_col2\" class=\"data row2 col2\" >0.0958</td>\n",
       "                        <td id=\"T_118f9e00_d6de_11eb_b0a3_000d3ae2b912row2_col3\" class=\"data row2 col3\" >0.121</td>\n",
       "            </tr>\n",
       "            <tr>\n",
       "                        <th id=\"T_118f9e00_d6de_11eb_b0a3_000d3ae2b912level0_row3\" class=\"row_heading level0 row3\" >15</th>\n",
       "                        <td id=\"T_118f9e00_d6de_11eb_b0a3_000d3ae2b912row3_col0\" class=\"data row3 col0\" >1.05e+04</td>\n",
       "                        <td id=\"T_118f9e00_d6de_11eb_b0a3_000d3ae2b912row3_col1\" class=\"data row3 col1\" >1.11e+04</td>\n",
       "                        <td id=\"T_118f9e00_d6de_11eb_b0a3_000d3ae2b912row3_col2\" class=\"data row3 col2\" >0.0744</td>\n",
       "                        <td id=\"T_118f9e00_d6de_11eb_b0a3_000d3ae2b912row3_col3\" class=\"data row3 col3\" >0.089</td>\n",
       "            </tr>\n",
       "    </tbody></table>"
      ],
      "text/plain": [
       "<pandas.io.formats.style.Styler at 0x7efd02c8bd90>"
      ]
     },
     "metadata": {},
     "output_type": "display_data"
    },
    {
     "name": "stdout",
     "output_type": "stream",
     "text": [
      "[\u001b[1mtardis.simulation.base\u001b[0m][\u001b[1;37mINFO\u001b[0m   ]  None (\u001b[1mbase.py\u001b[0m:433)\n"
     ]
    },
    {
     "name": "stdout",
     "output_type": "stream",
     "text": [
      "[\u001b[1mtardis.simulation.base\u001b[0m][\u001b[1;37mINFO\u001b[0m   ]  \n",
      "\tCurrent t_inner = 11220.057 K\n",
      "\tExpected t_inner for next iteration = 10121.498 K\n",
      " (\u001b[1mbase.py\u001b[0m:448)\n"
     ]
    },
    {
     "name": "stdout",
     "output_type": "stream",
     "text": [
      "[\u001b[1mtardis.simulation.base\u001b[0m][\u001b[1;37mINFO\u001b[0m   ]  \n",
      "\tStarting iteration 13 of 20 (\u001b[1mbase.py\u001b[0m:325)\n"
     ]
    },
    {
     "name": "stdout",
     "output_type": "stream",
     "text": [
      "[\u001b[1mtardis.simulation.base\u001b[0m][\u001b[1;37mINFO\u001b[0m   ]  \n",
      "\tLuminosity emitted   = 8.695e+42 erg / s\n",
      "\tLuminosity absorbed  = 2.731e+42 erg / s\n",
      "\tLuminosity requested = 1.059e+43 erg / s\n",
      " (\u001b[1mbase.py\u001b[0m:453)\n"
     ]
    },
    {
     "name": "stdout",
     "output_type": "stream",
     "text": [
      "[\u001b[1mtardis.simulation.base\u001b[0m][\u001b[1;37mINFO\u001b[0m   ]  \n",
      "\tPlasma stratification: (\u001b[1mbase.py\u001b[0m:430)\n"
     ]
    },
    {
     "data": {
      "text/html": [
       "<style  type=\"text/css\" >\n",
       "</style><table id=\"T_11e3fd6a_d6de_11eb_b0a3_000d3ae2b912\" ><thead>    <tr>        <th class=\"index_name level0\" >Shell No.</th>        <th class=\"col_heading level0 col0\" >t_rad</th>        <th class=\"col_heading level0 col1\" >next_t_rad</th>        <th class=\"col_heading level0 col2\" >w</th>        <th class=\"col_heading level0 col3\" >next_w</th>    </tr></thead><tbody>\n",
       "                <tr>\n",
       "                        <th id=\"T_11e3fd6a_d6de_11eb_b0a3_000d3ae2b912level0_row0\" class=\"row_heading level0 row0\" >0</th>\n",
       "                        <td id=\"T_11e3fd6a_d6de_11eb_b0a3_000d3ae2b912row0_col0\" class=\"data row0 col0\" >1.16e+04</td>\n",
       "                        <td id=\"T_11e3fd6a_d6de_11eb_b0a3_000d3ae2b912row0_col1\" class=\"data row0 col1\" >1.07e+04</td>\n",
       "                        <td id=\"T_11e3fd6a_d6de_11eb_b0a3_000d3ae2b912row0_col2\" class=\"data row0 col2\" >0.486</td>\n",
       "                        <td id=\"T_11e3fd6a_d6de_11eb_b0a3_000d3ae2b912row0_col3\" class=\"data row0 col3\" >0.438</td>\n",
       "            </tr>\n",
       "            <tr>\n",
       "                        <th id=\"T_11e3fd6a_d6de_11eb_b0a3_000d3ae2b912level0_row1\" class=\"row_heading level0 row1\" >5</th>\n",
       "                        <td id=\"T_11e3fd6a_d6de_11eb_b0a3_000d3ae2b912row1_col0\" class=\"data row1 col0\" >1.18e+04</td>\n",
       "                        <td id=\"T_11e3fd6a_d6de_11eb_b0a3_000d3ae2b912row1_col1\" class=\"data row1 col1\" >1.1e+04</td>\n",
       "                        <td id=\"T_11e3fd6a_d6de_11eb_b0a3_000d3ae2b912row1_col2\" class=\"data row1 col2\" >0.19</td>\n",
       "                        <td id=\"T_11e3fd6a_d6de_11eb_b0a3_000d3ae2b912row1_col3\" class=\"data row1 col3\" >0.162</td>\n",
       "            </tr>\n",
       "            <tr>\n",
       "                        <th id=\"T_11e3fd6a_d6de_11eb_b0a3_000d3ae2b912level0_row2\" class=\"row_heading level0 row2\" >10</th>\n",
       "                        <td id=\"T_11e3fd6a_d6de_11eb_b0a3_000d3ae2b912row2_col0\" class=\"data row2 col0\" >1.14e+04</td>\n",
       "                        <td id=\"T_11e3fd6a_d6de_11eb_b0a3_000d3ae2b912row2_col1\" class=\"data row2 col1\" >1.08e+04</td>\n",
       "                        <td id=\"T_11e3fd6a_d6de_11eb_b0a3_000d3ae2b912row2_col2\" class=\"data row2 col2\" >0.121</td>\n",
       "                        <td id=\"T_11e3fd6a_d6de_11eb_b0a3_000d3ae2b912row2_col3\" class=\"data row2 col3\" >0.101</td>\n",
       "            </tr>\n",
       "            <tr>\n",
       "                        <th id=\"T_11e3fd6a_d6de_11eb_b0a3_000d3ae2b912level0_row3\" class=\"row_heading level0 row3\" >15</th>\n",
       "                        <td id=\"T_11e3fd6a_d6de_11eb_b0a3_000d3ae2b912row3_col0\" class=\"data row3 col0\" >1.11e+04</td>\n",
       "                        <td id=\"T_11e3fd6a_d6de_11eb_b0a3_000d3ae2b912row3_col1\" class=\"data row3 col1\" >1.04e+04</td>\n",
       "                        <td id=\"T_11e3fd6a_d6de_11eb_b0a3_000d3ae2b912row3_col2\" class=\"data row3 col2\" >0.089</td>\n",
       "                        <td id=\"T_11e3fd6a_d6de_11eb_b0a3_000d3ae2b912row3_col3\" class=\"data row3 col3\" >0.0767</td>\n",
       "            </tr>\n",
       "    </tbody></table>"
      ],
      "text/plain": [
       "<pandas.io.formats.style.Styler at 0x7efd02cf34d0>"
      ]
     },
     "metadata": {},
     "output_type": "display_data"
    },
    {
     "name": "stdout",
     "output_type": "stream",
     "text": [
      "[\u001b[1mtardis.simulation.base\u001b[0m][\u001b[1;37mINFO\u001b[0m   ]  None (\u001b[1mbase.py\u001b[0m:433)\n"
     ]
    },
    {
     "name": "stdout",
     "output_type": "stream",
     "text": [
      "[\u001b[1mtardis.simulation.base\u001b[0m][\u001b[1;37mINFO\u001b[0m   ]  \n",
      "\tCurrent t_inner = 10121.498 K\n",
      "\tExpected t_inner for next iteration = 11171.296 K\n",
      " (\u001b[1mbase.py\u001b[0m:448)\n"
     ]
    },
    {
     "name": "stdout",
     "output_type": "stream",
     "text": [
      "[\u001b[1mtardis.simulation.base\u001b[0m][\u001b[1;37mINFO\u001b[0m   ]  \n",
      "\tStarting iteration 14 of 20 (\u001b[1mbase.py\u001b[0m:325)\n"
     ]
    },
    {
     "name": "stdout",
     "output_type": "stream",
     "text": [
      "[\u001b[1mtardis.simulation.base\u001b[0m][\u001b[1;37mINFO\u001b[0m   ]  \n",
      "\tLuminosity emitted   = 1.284e+43 erg / s\n",
      "\tLuminosity absorbed  = 4.115e+42 erg / s\n",
      "\tLuminosity requested = 1.059e+43 erg / s\n",
      " (\u001b[1mbase.py\u001b[0m:453)\n"
     ]
    },
    {
     "name": "stdout",
     "output_type": "stream",
     "text": [
      "[\u001b[1mtardis.simulation.base\u001b[0m][\u001b[1;37mINFO\u001b[0m   ]  \n",
      "\tPlasma stratification: (\u001b[1mbase.py\u001b[0m:430)\n"
     ]
    },
    {
     "data": {
      "text/html": [
       "<style  type=\"text/css\" >\n",
       "</style><table id=\"T_12363e40_d6de_11eb_b0a3_000d3ae2b912\" ><thead>    <tr>        <th class=\"index_name level0\" >Shell No.</th>        <th class=\"col_heading level0 col0\" >t_rad</th>        <th class=\"col_heading level0 col1\" >next_t_rad</th>        <th class=\"col_heading level0 col2\" >w</th>        <th class=\"col_heading level0 col3\" >next_w</th>    </tr></thead><tbody>\n",
       "                <tr>\n",
       "                        <th id=\"T_12363e40_d6de_11eb_b0a3_000d3ae2b912level0_row0\" class=\"row_heading level0 row0\" >0</th>\n",
       "                        <td id=\"T_12363e40_d6de_11eb_b0a3_000d3ae2b912row0_col0\" class=\"data row0 col0\" >1.07e+04</td>\n",
       "                        <td id=\"T_12363e40_d6de_11eb_b0a3_000d3ae2b912row0_col1\" class=\"data row0 col1\" >1.15e+04</td>\n",
       "                        <td id=\"T_12363e40_d6de_11eb_b0a3_000d3ae2b912row0_col2\" class=\"data row0 col2\" >0.438</td>\n",
       "                        <td id=\"T_12363e40_d6de_11eb_b0a3_000d3ae2b912row0_col3\" class=\"data row0 col3\" >0.495</td>\n",
       "            </tr>\n",
       "            <tr>\n",
       "                        <th id=\"T_12363e40_d6de_11eb_b0a3_000d3ae2b912level0_row1\" class=\"row_heading level0 row1\" >5</th>\n",
       "                        <td id=\"T_12363e40_d6de_11eb_b0a3_000d3ae2b912row1_col0\" class=\"data row1 col0\" >1.1e+04</td>\n",
       "                        <td id=\"T_12363e40_d6de_11eb_b0a3_000d3ae2b912row1_col1\" class=\"data row1 col1\" >1.17e+04</td>\n",
       "                        <td id=\"T_12363e40_d6de_11eb_b0a3_000d3ae2b912row1_col2\" class=\"data row1 col2\" >0.162</td>\n",
       "                        <td id=\"T_12363e40_d6de_11eb_b0a3_000d3ae2b912row1_col3\" class=\"data row1 col3\" >0.191</td>\n",
       "            </tr>\n",
       "            <tr>\n",
       "                        <th id=\"T_12363e40_d6de_11eb_b0a3_000d3ae2b912level0_row2\" class=\"row_heading level0 row2\" >10</th>\n",
       "                        <td id=\"T_12363e40_d6de_11eb_b0a3_000d3ae2b912row2_col0\" class=\"data row2 col0\" >1.08e+04</td>\n",
       "                        <td id=\"T_12363e40_d6de_11eb_b0a3_000d3ae2b912row2_col1\" class=\"data row2 col1\" >1.14e+04</td>\n",
       "                        <td id=\"T_12363e40_d6de_11eb_b0a3_000d3ae2b912row2_col2\" class=\"data row2 col2\" >0.101</td>\n",
       "                        <td id=\"T_12363e40_d6de_11eb_b0a3_000d3ae2b912row2_col3\" class=\"data row2 col3\" >0.12</td>\n",
       "            </tr>\n",
       "            <tr>\n",
       "                        <th id=\"T_12363e40_d6de_11eb_b0a3_000d3ae2b912level0_row3\" class=\"row_heading level0 row3\" >15</th>\n",
       "                        <td id=\"T_12363e40_d6de_11eb_b0a3_000d3ae2b912row3_col0\" class=\"data row3 col0\" >1.04e+04</td>\n",
       "                        <td id=\"T_12363e40_d6de_11eb_b0a3_000d3ae2b912row3_col1\" class=\"data row3 col1\" >1.1e+04</td>\n",
       "                        <td id=\"T_12363e40_d6de_11eb_b0a3_000d3ae2b912row3_col2\" class=\"data row3 col2\" >0.0767</td>\n",
       "                        <td id=\"T_12363e40_d6de_11eb_b0a3_000d3ae2b912row3_col3\" class=\"data row3 col3\" >0.0918</td>\n",
       "            </tr>\n",
       "    </tbody></table>"
      ],
      "text/plain": [
       "<pandas.io.formats.style.Styler at 0x7efcf2552d10>"
      ]
     },
     "metadata": {},
     "output_type": "display_data"
    },
    {
     "name": "stdout",
     "output_type": "stream",
     "text": [
      "[\u001b[1mtardis.simulation.base\u001b[0m][\u001b[1;37mINFO\u001b[0m   ]  None (\u001b[1mbase.py\u001b[0m:433)\n"
     ]
    },
    {
     "name": "stdout",
     "output_type": "stream",
     "text": [
      "[\u001b[1mtardis.simulation.base\u001b[0m][\u001b[1;37mINFO\u001b[0m   ]  \n",
      "\tCurrent t_inner = 11171.296 K\n",
      "\tExpected t_inner for next iteration = 10145.811 K\n",
      " (\u001b[1mbase.py\u001b[0m:448)\n"
     ]
    },
    {
     "name": "stdout",
     "output_type": "stream",
     "text": [
      "[\u001b[1mtardis.simulation.base\u001b[0m][\u001b[1;37mINFO\u001b[0m   ]  \n",
      "\tStarting iteration 15 of 20 (\u001b[1mbase.py\u001b[0m:325)\n"
     ]
    },
    {
     "name": "stdout",
     "output_type": "stream",
     "text": [
      "[\u001b[1mtardis.simulation.base\u001b[0m][\u001b[1;37mINFO\u001b[0m   ]  \n",
      "\tLuminosity emitted   = 8.705e+42 erg / s\n",
      "\tLuminosity absorbed  = 2.828e+42 erg / s\n",
      "\tLuminosity requested = 1.059e+43 erg / s\n",
      " (\u001b[1mbase.py\u001b[0m:453)\n"
     ]
    },
    {
     "name": "stdout",
     "output_type": "stream",
     "text": [
      "[\u001b[1mtardis.simulation.base\u001b[0m][\u001b[1;37mINFO\u001b[0m   ]  \n",
      "\tPlasma stratification: (\u001b[1mbase.py\u001b[0m:430)\n"
     ]
    },
    {
     "data": {
      "text/html": [
       "<style  type=\"text/css\" >\n",
       "</style><table id=\"T_1289fd00_d6de_11eb_b0a3_000d3ae2b912\" ><thead>    <tr>        <th class=\"index_name level0\" >Shell No.</th>        <th class=\"col_heading level0 col0\" >t_rad</th>        <th class=\"col_heading level0 col1\" >next_t_rad</th>        <th class=\"col_heading level0 col2\" >w</th>        <th class=\"col_heading level0 col3\" >next_w</th>    </tr></thead><tbody>\n",
       "                <tr>\n",
       "                        <th id=\"T_1289fd00_d6de_11eb_b0a3_000d3ae2b912level0_row0\" class=\"row_heading level0 row0\" >0</th>\n",
       "                        <td id=\"T_1289fd00_d6de_11eb_b0a3_000d3ae2b912row0_col0\" class=\"data row0 col0\" >1.15e+04</td>\n",
       "                        <td id=\"T_1289fd00_d6de_11eb_b0a3_000d3ae2b912row0_col1\" class=\"data row0 col1\" >1.07e+04</td>\n",
       "                        <td id=\"T_1289fd00_d6de_11eb_b0a3_000d3ae2b912row0_col2\" class=\"data row0 col2\" >0.495</td>\n",
       "                        <td id=\"T_1289fd00_d6de_11eb_b0a3_000d3ae2b912row0_col3\" class=\"data row0 col3\" >0.449</td>\n",
       "            </tr>\n",
       "            <tr>\n",
       "                        <th id=\"T_1289fd00_d6de_11eb_b0a3_000d3ae2b912level0_row1\" class=\"row_heading level0 row1\" >5</th>\n",
       "                        <td id=\"T_1289fd00_d6de_11eb_b0a3_000d3ae2b912row1_col0\" class=\"data row1 col0\" >1.17e+04</td>\n",
       "                        <td id=\"T_1289fd00_d6de_11eb_b0a3_000d3ae2b912row1_col1\" class=\"data row1 col1\" >1.1e+04</td>\n",
       "                        <td id=\"T_1289fd00_d6de_11eb_b0a3_000d3ae2b912row1_col2\" class=\"data row1 col2\" >0.191</td>\n",
       "                        <td id=\"T_1289fd00_d6de_11eb_b0a3_000d3ae2b912row1_col3\" class=\"data row1 col3\" >0.163</td>\n",
       "            </tr>\n",
       "            <tr>\n",
       "                        <th id=\"T_1289fd00_d6de_11eb_b0a3_000d3ae2b912level0_row2\" class=\"row_heading level0 row2\" >10</th>\n",
       "                        <td id=\"T_1289fd00_d6de_11eb_b0a3_000d3ae2b912row2_col0\" class=\"data row2 col0\" >1.14e+04</td>\n",
       "                        <td id=\"T_1289fd00_d6de_11eb_b0a3_000d3ae2b912row2_col1\" class=\"data row2 col1\" >1.09e+04</td>\n",
       "                        <td id=\"T_1289fd00_d6de_11eb_b0a3_000d3ae2b912row2_col2\" class=\"data row2 col2\" >0.12</td>\n",
       "                        <td id=\"T_1289fd00_d6de_11eb_b0a3_000d3ae2b912row2_col3\" class=\"data row2 col3\" >0.0997</td>\n",
       "            </tr>\n",
       "            <tr>\n",
       "                        <th id=\"T_1289fd00_d6de_11eb_b0a3_000d3ae2b912level0_row3\" class=\"row_heading level0 row3\" >15</th>\n",
       "                        <td id=\"T_1289fd00_d6de_11eb_b0a3_000d3ae2b912row3_col0\" class=\"data row3 col0\" >1.1e+04</td>\n",
       "                        <td id=\"T_1289fd00_d6de_11eb_b0a3_000d3ae2b912row3_col1\" class=\"data row3 col1\" >1.05e+04</td>\n",
       "                        <td id=\"T_1289fd00_d6de_11eb_b0a3_000d3ae2b912row3_col2\" class=\"data row3 col2\" >0.0918</td>\n",
       "                        <td id=\"T_1289fd00_d6de_11eb_b0a3_000d3ae2b912row3_col3\" class=\"data row3 col3\" >0.0768</td>\n",
       "            </tr>\n",
       "    </tbody></table>"
      ],
      "text/plain": [
       "<pandas.io.formats.style.Styler at 0x7efcf49bf610>"
      ]
     },
     "metadata": {},
     "output_type": "display_data"
    },
    {
     "name": "stdout",
     "output_type": "stream",
     "text": [
      "[\u001b[1mtardis.simulation.base\u001b[0m][\u001b[1;37mINFO\u001b[0m   ]  None (\u001b[1mbase.py\u001b[0m:433)\n"
     ]
    },
    {
     "name": "stdout",
     "output_type": "stream",
     "text": [
      "[\u001b[1mtardis.simulation.base\u001b[0m][\u001b[1;37mINFO\u001b[0m   ]  \n",
      "\tCurrent t_inner = 10145.811 K\n",
      "\tExpected t_inner for next iteration = 11191.850 K\n",
      " (\u001b[1mbase.py\u001b[0m:448)\n"
     ]
    },
    {
     "name": "stdout",
     "output_type": "stream",
     "text": [
      "[\u001b[1mtardis.simulation.base\u001b[0m][\u001b[1;37mINFO\u001b[0m   ]  \n",
      "\tStarting iteration 16 of 20 (\u001b[1mbase.py\u001b[0m:325)\n"
     ]
    },
    {
     "name": "stdout",
     "output_type": "stream",
     "text": [
      "[\u001b[1mtardis.simulation.base\u001b[0m][\u001b[1;37mINFO\u001b[0m   ]  \n",
      "\tLuminosity emitted   = 1.284e+43 erg / s\n",
      "\tLuminosity absorbed  = 4.234e+42 erg / s\n",
      "\tLuminosity requested = 1.059e+43 erg / s\n",
      " (\u001b[1mbase.py\u001b[0m:453)\n"
     ]
    },
    {
     "name": "stdout",
     "output_type": "stream",
     "text": [
      "[\u001b[1mtardis.simulation.base\u001b[0m][\u001b[1;37mINFO\u001b[0m   ]  \n",
      "\tPlasma stratification: (\u001b[1mbase.py\u001b[0m:430)\n"
     ]
    },
    {
     "data": {
      "text/html": [
       "<style  type=\"text/css\" >\n",
       "</style><table id=\"T_12dc93da_d6de_11eb_b0a3_000d3ae2b912\" ><thead>    <tr>        <th class=\"index_name level0\" >Shell No.</th>        <th class=\"col_heading level0 col0\" >t_rad</th>        <th class=\"col_heading level0 col1\" >next_t_rad</th>        <th class=\"col_heading level0 col2\" >w</th>        <th class=\"col_heading level0 col3\" >next_w</th>    </tr></thead><tbody>\n",
       "                <tr>\n",
       "                        <th id=\"T_12dc93da_d6de_11eb_b0a3_000d3ae2b912level0_row0\" class=\"row_heading level0 row0\" >0</th>\n",
       "                        <td id=\"T_12dc93da_d6de_11eb_b0a3_000d3ae2b912row0_col0\" class=\"data row0 col0\" >1.07e+04</td>\n",
       "                        <td id=\"T_12dc93da_d6de_11eb_b0a3_000d3ae2b912row0_col1\" class=\"data row0 col1\" >1.15e+04</td>\n",
       "                        <td id=\"T_12dc93da_d6de_11eb_b0a3_000d3ae2b912row0_col2\" class=\"data row0 col2\" >0.449</td>\n",
       "                        <td id=\"T_12dc93da_d6de_11eb_b0a3_000d3ae2b912row0_col3\" class=\"data row0 col3\" >0.495</td>\n",
       "            </tr>\n",
       "            <tr>\n",
       "                        <th id=\"T_12dc93da_d6de_11eb_b0a3_000d3ae2b912level0_row1\" class=\"row_heading level0 row1\" >5</th>\n",
       "                        <td id=\"T_12dc93da_d6de_11eb_b0a3_000d3ae2b912row1_col0\" class=\"data row1 col0\" >1.1e+04</td>\n",
       "                        <td id=\"T_12dc93da_d6de_11eb_b0a3_000d3ae2b912row1_col1\" class=\"data row1 col1\" >1.18e+04</td>\n",
       "                        <td id=\"T_12dc93da_d6de_11eb_b0a3_000d3ae2b912row1_col2\" class=\"data row1 col2\" >0.163</td>\n",
       "                        <td id=\"T_12dc93da_d6de_11eb_b0a3_000d3ae2b912row1_col3\" class=\"data row1 col3\" >0.184</td>\n",
       "            </tr>\n",
       "            <tr>\n",
       "                        <th id=\"T_12dc93da_d6de_11eb_b0a3_000d3ae2b912level0_row2\" class=\"row_heading level0 row2\" >10</th>\n",
       "                        <td id=\"T_12dc93da_d6de_11eb_b0a3_000d3ae2b912row2_col0\" class=\"data row2 col0\" >1.09e+04</td>\n",
       "                        <td id=\"T_12dc93da_d6de_11eb_b0a3_000d3ae2b912row2_col1\" class=\"data row2 col1\" >1.14e+04</td>\n",
       "                        <td id=\"T_12dc93da_d6de_11eb_b0a3_000d3ae2b912row2_col2\" class=\"data row2 col2\" >0.0997</td>\n",
       "                        <td id=\"T_12dc93da_d6de_11eb_b0a3_000d3ae2b912row2_col3\" class=\"data row2 col3\" >0.122</td>\n",
       "            </tr>\n",
       "            <tr>\n",
       "                        <th id=\"T_12dc93da_d6de_11eb_b0a3_000d3ae2b912level0_row3\" class=\"row_heading level0 row3\" >15</th>\n",
       "                        <td id=\"T_12dc93da_d6de_11eb_b0a3_000d3ae2b912row3_col0\" class=\"data row3 col0\" >1.05e+04</td>\n",
       "                        <td id=\"T_12dc93da_d6de_11eb_b0a3_000d3ae2b912row3_col1\" class=\"data row3 col1\" >1.11e+04</td>\n",
       "                        <td id=\"T_12dc93da_d6de_11eb_b0a3_000d3ae2b912row3_col2\" class=\"data row3 col2\" >0.0768</td>\n",
       "                        <td id=\"T_12dc93da_d6de_11eb_b0a3_000d3ae2b912row3_col3\" class=\"data row3 col3\" >0.0898</td>\n",
       "            </tr>\n",
       "    </tbody></table>"
      ],
      "text/plain": [
       "<pandas.io.formats.style.Styler at 0x7efd02cc3ed0>"
      ]
     },
     "metadata": {},
     "output_type": "display_data"
    },
    {
     "name": "stdout",
     "output_type": "stream",
     "text": [
      "[\u001b[1mtardis.simulation.base\u001b[0m][\u001b[1;37mINFO\u001b[0m   ]  None (\u001b[1mbase.py\u001b[0m:433)\n"
     ]
    },
    {
     "name": "stdout",
     "output_type": "stream",
     "text": [
      "[\u001b[1mtardis.simulation.base\u001b[0m][\u001b[1;37mINFO\u001b[0m   ]  \n",
      "\tCurrent t_inner = 11191.850 K\n",
      "\tExpected t_inner for next iteration = 10164.556 K\n",
      " (\u001b[1mbase.py\u001b[0m:448)\n"
     ]
    },
    {
     "name": "stdout",
     "output_type": "stream",
     "text": [
      "[\u001b[1mtardis.simulation.base\u001b[0m][\u001b[1;37mINFO\u001b[0m   ]  \n",
      "\tStarting iteration 17 of 20 (\u001b[1mbase.py\u001b[0m:325)\n"
     ]
    },
    {
     "name": "stdout",
     "output_type": "stream",
     "text": [
      "[\u001b[1mtardis.simulation.base\u001b[0m][\u001b[1;37mINFO\u001b[0m   ]  \n",
      "\tLuminosity emitted   = 8.803e+42 erg / s\n",
      "\tLuminosity absorbed  = 2.816e+42 erg / s\n",
      "\tLuminosity requested = 1.059e+43 erg / s\n",
      " (\u001b[1mbase.py\u001b[0m:453)\n"
     ]
    },
    {
     "name": "stdout",
     "output_type": "stream",
     "text": [
      "[\u001b[1mtardis.simulation.base\u001b[0m][\u001b[1;37mINFO\u001b[0m   ]  \n",
      "\tPlasma stratification: (\u001b[1mbase.py\u001b[0m:430)\n"
     ]
    },
    {
     "data": {
      "text/html": [
       "<style  type=\"text/css\" >\n",
       "</style><table id=\"T_13309b88_d6de_11eb_b0a3_000d3ae2b912\" ><thead>    <tr>        <th class=\"index_name level0\" >Shell No.</th>        <th class=\"col_heading level0 col0\" >t_rad</th>        <th class=\"col_heading level0 col1\" >next_t_rad</th>        <th class=\"col_heading level0 col2\" >w</th>        <th class=\"col_heading level0 col3\" >next_w</th>    </tr></thead><tbody>\n",
       "                <tr>\n",
       "                        <th id=\"T_13309b88_d6de_11eb_b0a3_000d3ae2b912level0_row0\" class=\"row_heading level0 row0\" >0</th>\n",
       "                        <td id=\"T_13309b88_d6de_11eb_b0a3_000d3ae2b912row0_col0\" class=\"data row0 col0\" >1.15e+04</td>\n",
       "                        <td id=\"T_13309b88_d6de_11eb_b0a3_000d3ae2b912row0_col1\" class=\"data row0 col1\" >1.07e+04</td>\n",
       "                        <td id=\"T_13309b88_d6de_11eb_b0a3_000d3ae2b912row0_col2\" class=\"data row0 col2\" >0.495</td>\n",
       "                        <td id=\"T_13309b88_d6de_11eb_b0a3_000d3ae2b912row0_col3\" class=\"data row0 col3\" >0.439</td>\n",
       "            </tr>\n",
       "            <tr>\n",
       "                        <th id=\"T_13309b88_d6de_11eb_b0a3_000d3ae2b912level0_row1\" class=\"row_heading level0 row1\" >5</th>\n",
       "                        <td id=\"T_13309b88_d6de_11eb_b0a3_000d3ae2b912row1_col0\" class=\"data row1 col0\" >1.18e+04</td>\n",
       "                        <td id=\"T_13309b88_d6de_11eb_b0a3_000d3ae2b912row1_col1\" class=\"data row1 col1\" >1.11e+04</td>\n",
       "                        <td id=\"T_13309b88_d6de_11eb_b0a3_000d3ae2b912row1_col2\" class=\"data row1 col2\" >0.184</td>\n",
       "                        <td id=\"T_13309b88_d6de_11eb_b0a3_000d3ae2b912row1_col3\" class=\"data row1 col3\" >0.16</td>\n",
       "            </tr>\n",
       "            <tr>\n",
       "                        <th id=\"T_13309b88_d6de_11eb_b0a3_000d3ae2b912level0_row2\" class=\"row_heading level0 row2\" >10</th>\n",
       "                        <td id=\"T_13309b88_d6de_11eb_b0a3_000d3ae2b912row2_col0\" class=\"data row2 col0\" >1.14e+04</td>\n",
       "                        <td id=\"T_13309b88_d6de_11eb_b0a3_000d3ae2b912row2_col1\" class=\"data row2 col1\" >1.1e+04</td>\n",
       "                        <td id=\"T_13309b88_d6de_11eb_b0a3_000d3ae2b912row2_col2\" class=\"data row2 col2\" >0.122</td>\n",
       "                        <td id=\"T_13309b88_d6de_11eb_b0a3_000d3ae2b912row2_col3\" class=\"data row2 col3\" >0.0962</td>\n",
       "            </tr>\n",
       "            <tr>\n",
       "                        <th id=\"T_13309b88_d6de_11eb_b0a3_000d3ae2b912level0_row3\" class=\"row_heading level0 row3\" >15</th>\n",
       "                        <td id=\"T_13309b88_d6de_11eb_b0a3_000d3ae2b912row3_col0\" class=\"data row3 col0\" >1.11e+04</td>\n",
       "                        <td id=\"T_13309b88_d6de_11eb_b0a3_000d3ae2b912row3_col1\" class=\"data row3 col1\" >1.05e+04</td>\n",
       "                        <td id=\"T_13309b88_d6de_11eb_b0a3_000d3ae2b912row3_col2\" class=\"data row3 col2\" >0.0898</td>\n",
       "                        <td id=\"T_13309b88_d6de_11eb_b0a3_000d3ae2b912row3_col3\" class=\"data row3 col3\" >0.0763</td>\n",
       "            </tr>\n",
       "    </tbody></table>"
      ],
      "text/plain": [
       "<pandas.io.formats.style.Styler at 0x7efd02cf37d0>"
      ]
     },
     "metadata": {},
     "output_type": "display_data"
    },
    {
     "name": "stdout",
     "output_type": "stream",
     "text": [
      "[\u001b[1mtardis.simulation.base\u001b[0m][\u001b[1;37mINFO\u001b[0m   ]  None (\u001b[1mbase.py\u001b[0m:433)\n"
     ]
    },
    {
     "name": "stdout",
     "output_type": "stream",
     "text": [
      "[\u001b[1mtardis.simulation.base\u001b[0m][\u001b[1;37mINFO\u001b[0m   ]  \n",
      "\tCurrent t_inner = 10164.556 K\n",
      "\tExpected t_inner for next iteration = 11150.010 K\n",
      " (\u001b[1mbase.py\u001b[0m:448)\n"
     ]
    },
    {
     "name": "stdout",
     "output_type": "stream",
     "text": [
      "[\u001b[1mtardis.simulation.base\u001b[0m][\u001b[1;37mINFO\u001b[0m   ]  \n",
      "\tStarting iteration 18 of 20 (\u001b[1mbase.py\u001b[0m:325)\n"
     ]
    },
    {
     "name": "stdout",
     "output_type": "stream",
     "text": [
      "[\u001b[1mtardis.simulation.base\u001b[0m][\u001b[1;37mINFO\u001b[0m   ]  \n",
      "\tLuminosity emitted   = 1.271e+43 erg / s\n",
      "\tLuminosity absorbed  = 4.117e+42 erg / s\n",
      "\tLuminosity requested = 1.059e+43 erg / s\n",
      " (\u001b[1mbase.py\u001b[0m:453)\n"
     ]
    },
    {
     "name": "stdout",
     "output_type": "stream",
     "text": [
      "[\u001b[1mtardis.simulation.base\u001b[0m][\u001b[1;37mINFO\u001b[0m   ]  \n",
      "\tPlasma stratification: (\u001b[1mbase.py\u001b[0m:430)\n"
     ]
    },
    {
     "data": {
      "text/html": [
       "<style  type=\"text/css\" >\n",
       "</style><table id=\"T_13835076_d6de_11eb_b0a3_000d3ae2b912\" ><thead>    <tr>        <th class=\"index_name level0\" >Shell No.</th>        <th class=\"col_heading level0 col0\" >t_rad</th>        <th class=\"col_heading level0 col1\" >next_t_rad</th>        <th class=\"col_heading level0 col2\" >w</th>        <th class=\"col_heading level0 col3\" >next_w</th>    </tr></thead><tbody>\n",
       "                <tr>\n",
       "                        <th id=\"T_13835076_d6de_11eb_b0a3_000d3ae2b912level0_row0\" class=\"row_heading level0 row0\" >0</th>\n",
       "                        <td id=\"T_13835076_d6de_11eb_b0a3_000d3ae2b912row0_col0\" class=\"data row0 col0\" >1.07e+04</td>\n",
       "                        <td id=\"T_13835076_d6de_11eb_b0a3_000d3ae2b912row0_col1\" class=\"data row0 col1\" >1.14e+04</td>\n",
       "                        <td id=\"T_13835076_d6de_11eb_b0a3_000d3ae2b912row0_col2\" class=\"data row0 col2\" >0.439</td>\n",
       "                        <td id=\"T_13835076_d6de_11eb_b0a3_000d3ae2b912row0_col3\" class=\"data row0 col3\" >0.492</td>\n",
       "            </tr>\n",
       "            <tr>\n",
       "                        <th id=\"T_13835076_d6de_11eb_b0a3_000d3ae2b912level0_row1\" class=\"row_heading level0 row1\" >5</th>\n",
       "                        <td id=\"T_13835076_d6de_11eb_b0a3_000d3ae2b912row1_col0\" class=\"data row1 col0\" >1.11e+04</td>\n",
       "                        <td id=\"T_13835076_d6de_11eb_b0a3_000d3ae2b912row1_col1\" class=\"data row1 col1\" >1.17e+04</td>\n",
       "                        <td id=\"T_13835076_d6de_11eb_b0a3_000d3ae2b912row1_col2\" class=\"data row1 col2\" >0.16</td>\n",
       "                        <td id=\"T_13835076_d6de_11eb_b0a3_000d3ae2b912row1_col3\" class=\"data row1 col3\" >0.186</td>\n",
       "            </tr>\n",
       "            <tr>\n",
       "                        <th id=\"T_13835076_d6de_11eb_b0a3_000d3ae2b912level0_row2\" class=\"row_heading level0 row2\" >10</th>\n",
       "                        <td id=\"T_13835076_d6de_11eb_b0a3_000d3ae2b912row2_col0\" class=\"data row2 col0\" >1.1e+04</td>\n",
       "                        <td id=\"T_13835076_d6de_11eb_b0a3_000d3ae2b912row2_col1\" class=\"data row2 col1\" >1.15e+04</td>\n",
       "                        <td id=\"T_13835076_d6de_11eb_b0a3_000d3ae2b912row2_col2\" class=\"data row2 col2\" >0.0962</td>\n",
       "                        <td id=\"T_13835076_d6de_11eb_b0a3_000d3ae2b912row2_col3\" class=\"data row2 col3\" >0.117</td>\n",
       "            </tr>\n",
       "            <tr>\n",
       "                        <th id=\"T_13835076_d6de_11eb_b0a3_000d3ae2b912level0_row3\" class=\"row_heading level0 row3\" >15</th>\n",
       "                        <td id=\"T_13835076_d6de_11eb_b0a3_000d3ae2b912row3_col0\" class=\"data row3 col0\" >1.05e+04</td>\n",
       "                        <td id=\"T_13835076_d6de_11eb_b0a3_000d3ae2b912row3_col1\" class=\"data row3 col1\" >1.11e+04</td>\n",
       "                        <td id=\"T_13835076_d6de_11eb_b0a3_000d3ae2b912row3_col2\" class=\"data row3 col2\" >0.0763</td>\n",
       "                        <td id=\"T_13835076_d6de_11eb_b0a3_000d3ae2b912row3_col3\" class=\"data row3 col3\" >0.0876</td>\n",
       "            </tr>\n",
       "    </tbody></table>"
      ],
      "text/plain": [
       "<pandas.io.formats.style.Styler at 0x7efd02c85190>"
      ]
     },
     "metadata": {},
     "output_type": "display_data"
    },
    {
     "name": "stdout",
     "output_type": "stream",
     "text": [
      "[\u001b[1mtardis.simulation.base\u001b[0m][\u001b[1;37mINFO\u001b[0m   ]  None (\u001b[1mbase.py\u001b[0m:433)\n"
     ]
    },
    {
     "name": "stdout",
     "output_type": "stream",
     "text": [
      "[\u001b[1mtardis.simulation.base\u001b[0m][\u001b[1;37mINFO\u001b[0m   ]  \n",
      "\tCurrent t_inner = 11150.010 K\n",
      "\tExpected t_inner for next iteration = 10180.809 K\n",
      " (\u001b[1mbase.py\u001b[0m:448)\n"
     ]
    },
    {
     "name": "stdout",
     "output_type": "stream",
     "text": [
      "[\u001b[1mtardis.simulation.base\u001b[0m][\u001b[1;37mINFO\u001b[0m   ]  \n",
      "\tStarting iteration 19 of 20 (\u001b[1mbase.py\u001b[0m:325)\n"
     ]
    },
    {
     "name": "stdout",
     "output_type": "stream",
     "text": [
      "[\u001b[1mtardis.simulation.base\u001b[0m][\u001b[1;37mINFO\u001b[0m   ]  \n",
      "\tLuminosity emitted   = 8.820e+42 erg / s\n",
      "\tLuminosity absorbed  = 2.873e+42 erg / s\n",
      "\tLuminosity requested = 1.059e+43 erg / s\n",
      " (\u001b[1mbase.py\u001b[0m:453)\n"
     ]
    },
    {
     "name": "stdout",
     "output_type": "stream",
     "text": [
      "[\u001b[1mtardis.simulation.base\u001b[0m][\u001b[1;37mINFO\u001b[0m   ]  \n",
      "\tPlasma stratification: (\u001b[1mbase.py\u001b[0m:430)\n"
     ]
    },
    {
     "data": {
      "text/html": [
       "<style  type=\"text/css\" >\n",
       "</style><table id=\"T_13d69006_d6de_11eb_b0a3_000d3ae2b912\" ><thead>    <tr>        <th class=\"index_name level0\" >Shell No.</th>        <th class=\"col_heading level0 col0\" >t_rad</th>        <th class=\"col_heading level0 col1\" >next_t_rad</th>        <th class=\"col_heading level0 col2\" >w</th>        <th class=\"col_heading level0 col3\" >next_w</th>    </tr></thead><tbody>\n",
       "                <tr>\n",
       "                        <th id=\"T_13d69006_d6de_11eb_b0a3_000d3ae2b912level0_row0\" class=\"row_heading level0 row0\" >0</th>\n",
       "                        <td id=\"T_13d69006_d6de_11eb_b0a3_000d3ae2b912row0_col0\" class=\"data row0 col0\" >1.14e+04</td>\n",
       "                        <td id=\"T_13d69006_d6de_11eb_b0a3_000d3ae2b912row0_col1\" class=\"data row0 col1\" >1.07e+04</td>\n",
       "                        <td id=\"T_13d69006_d6de_11eb_b0a3_000d3ae2b912row0_col2\" class=\"data row0 col2\" >0.492</td>\n",
       "                        <td id=\"T_13d69006_d6de_11eb_b0a3_000d3ae2b912row0_col3\" class=\"data row0 col3\" >0.441</td>\n",
       "            </tr>\n",
       "            <tr>\n",
       "                        <th id=\"T_13d69006_d6de_11eb_b0a3_000d3ae2b912level0_row1\" class=\"row_heading level0 row1\" >5</th>\n",
       "                        <td id=\"T_13d69006_d6de_11eb_b0a3_000d3ae2b912row1_col0\" class=\"data row1 col0\" >1.17e+04</td>\n",
       "                        <td id=\"T_13d69006_d6de_11eb_b0a3_000d3ae2b912row1_col1\" class=\"data row1 col1\" >1.11e+04</td>\n",
       "                        <td id=\"T_13d69006_d6de_11eb_b0a3_000d3ae2b912row1_col2\" class=\"data row1 col2\" >0.186</td>\n",
       "                        <td id=\"T_13d69006_d6de_11eb_b0a3_000d3ae2b912row1_col3\" class=\"data row1 col3\" >0.161</td>\n",
       "            </tr>\n",
       "            <tr>\n",
       "                        <th id=\"T_13d69006_d6de_11eb_b0a3_000d3ae2b912level0_row2\" class=\"row_heading level0 row2\" >10</th>\n",
       "                        <td id=\"T_13d69006_d6de_11eb_b0a3_000d3ae2b912row2_col0\" class=\"data row2 col0\" >1.15e+04</td>\n",
       "                        <td id=\"T_13d69006_d6de_11eb_b0a3_000d3ae2b912row2_col1\" class=\"data row2 col1\" >1.09e+04</td>\n",
       "                        <td id=\"T_13d69006_d6de_11eb_b0a3_000d3ae2b912row2_col2\" class=\"data row2 col2\" >0.117</td>\n",
       "                        <td id=\"T_13d69006_d6de_11eb_b0a3_000d3ae2b912row2_col3\" class=\"data row2 col3\" >0.1</td>\n",
       "            </tr>\n",
       "            <tr>\n",
       "                        <th id=\"T_13d69006_d6de_11eb_b0a3_000d3ae2b912level0_row3\" class=\"row_heading level0 row3\" >15</th>\n",
       "                        <td id=\"T_13d69006_d6de_11eb_b0a3_000d3ae2b912row3_col0\" class=\"data row3 col0\" >1.11e+04</td>\n",
       "                        <td id=\"T_13d69006_d6de_11eb_b0a3_000d3ae2b912row3_col1\" class=\"data row3 col1\" >1.05e+04</td>\n",
       "                        <td id=\"T_13d69006_d6de_11eb_b0a3_000d3ae2b912row3_col2\" class=\"data row3 col2\" >0.0876</td>\n",
       "                        <td id=\"T_13d69006_d6de_11eb_b0a3_000d3ae2b912row3_col3\" class=\"data row3 col3\" >0.0765</td>\n",
       "            </tr>\n",
       "    </tbody></table>"
      ],
      "text/plain": [
       "<pandas.io.formats.style.Styler at 0x7efd02c83050>"
      ]
     },
     "metadata": {},
     "output_type": "display_data"
    },
    {
     "name": "stdout",
     "output_type": "stream",
     "text": [
      "[\u001b[1mtardis.simulation.base\u001b[0m][\u001b[1;37mINFO\u001b[0m   ]  None (\u001b[1mbase.py\u001b[0m:433)\n"
     ]
    },
    {
     "name": "stdout",
     "output_type": "stream",
     "text": [
      "[\u001b[1mtardis.simulation.base\u001b[0m][\u001b[1;37mINFO\u001b[0m   ]  \n",
      "\tCurrent t_inner = 10180.809 K\n",
      "\tExpected t_inner for next iteration = 11157.125 K\n",
      " (\u001b[1mbase.py\u001b[0m:448)\n"
     ]
    },
    {
     "name": "stdout",
     "output_type": "stream",
     "text": [
      "[\u001b[1mtardis.simulation.base\u001b[0m][\u001b[1;37mINFO\u001b[0m   ]  \n",
      "\tStarting iteration 20 of 20 (\u001b[1mbase.py\u001b[0m:325)\n"
     ]
    },
    {
     "name": "stdout",
     "output_type": "stream",
     "text": [
      "[\u001b[1mtardis.simulation.base\u001b[0m][\u001b[1;37mINFO\u001b[0m   ]  \n",
      "\tLuminosity emitted   = 1.272e+43 erg / s\n",
      "\tLuminosity absorbed  = 4.149e+42 erg / s\n",
      "\tLuminosity requested = 1.059e+43 erg / s\n",
      " (\u001b[1mbase.py\u001b[0m:453)\n"
     ]
    },
    {
     "name": "stdout",
     "output_type": "stream",
     "text": [
      "[\u001b[1mtardis.simulation.base\u001b[0m][\u001b[1;37mINFO\u001b[0m   ]  \n",
      "\tSimulation finished in 20 iterations \n",
      "\tSimulation took 33.61 s\n",
      " (\u001b[1mbase.py\u001b[0m:384)\n"
     ]
    }
   ],
   "source": [
    "from tardis import run_tardis\n",
    "\n",
    "simulation = run_tardis('tardis_example.yml')"
   ]
  },
  {
   "cell_type": "markdown",
   "metadata": {},
   "source": [
    "If all goes well, the simulation should run as usual. Afterwards, the\n",
    "information from the simulation will all exist in `Simulation` and\n",
    "can be examined.\n",
    "Some examples for useful/interesting quantities are\n",
    "given below (but much more information is available: contact us via \n",
    "[tardis-sn-users](http://groups.google.com/forum/#!forum/tardis-sn-users) if you need\n",
    "further help)."
   ]
  },
  {
   "cell_type": "markdown",
   "metadata": {},
   "source": [
    "### Examples of finding physical quantities"
   ]
  },
  {
   "cell_type": "markdown",
   "metadata": {},
   "source": [
    "For example, two of our important quantities are the parameters of the\n",
    "radiation field model, $T_{\\rm rad}$ and $W$. These exist as `numpy.ndarray`\n",
    "\n",
    "Thus `simulation.plasma.t_rad` will give you a list of the $T_{\\rm rad}$-values for the model zones in cgs units."
   ]
  },
  {
   "cell_type": "code",
   "execution_count": 3,
   "metadata": {
    "execution": {
     "iopub.execute_input": "2021-06-27T00:24:56.779017Z",
     "iopub.status.busy": "2021-06-27T00:24:56.778581Z",
     "iopub.status.idle": "2021-06-27T00:24:56.782120Z",
     "shell.execute_reply": "2021-06-27T00:24:56.781765Z"
    }
   },
   "outputs": [
    {
     "data": {
      "text/plain": [
       "array([10748.90193246, 10927.8200971 , 10998.79113624, 11102.00007216,\n",
       "       11124.69397086, 11092.36545454, 11109.20982059, 11044.60079839,\n",
       "       11009.33979842, 10974.32538709, 10875.99873239, 10711.88616652,\n",
       "       10639.11200499, 10577.49595765, 10546.67237506, 10491.73931947,\n",
       "       10362.76140891, 10233.36943785, 10157.74597418, 10052.60841091])"
      ]
     },
     "execution_count": 3,
     "metadata": {},
     "output_type": "execute_result"
    }
   ],
   "source": [
    "simulation.plasma.t_rad"
   ]
  },
  {
   "cell_type": "markdown",
   "metadata": {},
   "source": [
    "Similarly, the $W$-values can be accessed using `simulation.plasma.w`"
   ]
  },
  {
   "cell_type": "code",
   "execution_count": 4,
   "metadata": {
    "execution": {
     "iopub.execute_input": "2021-06-27T00:24:56.786116Z",
     "iopub.status.busy": "2021-06-27T00:24:56.785678Z",
     "iopub.status.idle": "2021-06-27T00:24:56.787741Z",
     "shell.execute_reply": "2021-06-27T00:24:56.788085Z"
    }
   },
   "outputs": [
    {
     "data": {
      "text/plain": [
       "array([0.44113286, 0.32918632, 0.26474272, 0.21536775, 0.1840041 ,\n",
       "       0.1612328 , 0.14208694, 0.12845608, 0.11626245, 0.10609354,\n",
       "       0.0999936 , 0.09700122, 0.09141656, 0.08664278, 0.08089821,\n",
       "       0.07652958, 0.07443362, 0.07292518, 0.07014472, 0.06825952])"
      ]
     },
     "execution_count": 4,
     "metadata": {},
     "output_type": "execute_result"
    }
   ],
   "source": [
    "simulation.plasma.w"
   ]
  },
  {
   "cell_type": "markdown",
   "metadata": {},
   "source": [
    "Several important quantities that were setup when the model was defined by the configuration file are located in the `model` section of the simulation. For example, the inner and outer velocity boundaries of the zones in the model is given by `simulation.model.v_inner.cgs` and `simulation.model.v_outer.cgs` respectively. These exist as Astropy [Quantities](http://astropy.readthedocs.org/en/v0.2.1/_generated/astropy.units.quantity.Quantity.html)."
   ]
  },
  {
   "cell_type": "code",
   "execution_count": 5,
   "metadata": {
    "execution": {
     "iopub.execute_input": "2021-06-27T00:24:56.794212Z",
     "iopub.status.busy": "2021-06-27T00:24:56.793770Z",
     "iopub.status.idle": "2021-06-27T00:24:56.795801Z",
     "shell.execute_reply": "2021-06-27T00:24:56.796147Z"
    }
   },
   "outputs": [
    {
     "data": {
      "text/latex": [
       "$[1.1 \\times 10^{9},~1.145 \\times 10^{9},~1.19 \\times 10^{9},~1.235 \\times 10^{9},~1.28 \\times 10^{9},~1.325 \\times 10^{9},~1.37 \\times 10^{9},~1.415 \\times 10^{9},~1.46 \\times 10^{9},~1.505 \\times 10^{9},~1.55 \\times 10^{9},~1.595 \\times 10^{9},~1.64 \\times 10^{9},~1.685 \\times 10^{9},~1.73 \\times 10^{9},~1.775 \\times 10^{9},~1.82 \\times 10^{9},~1.865 \\times 10^{9},~1.91 \\times 10^{9},~1.955 \\times 10^{9}] \\; \\mathrm{\\frac{cm}{s}}$"
      ],
      "text/plain": [
       "<Quantity [1.100e+09, 1.145e+09, 1.190e+09, 1.235e+09, 1.280e+09,\n",
       "           1.325e+09, 1.370e+09, 1.415e+09, 1.460e+09, 1.505e+09,\n",
       "           1.550e+09, 1.595e+09, 1.640e+09, 1.685e+09, 1.730e+09,\n",
       "           1.775e+09, 1.820e+09, 1.865e+09, 1.910e+09, 1.955e+09] cm / s>"
      ]
     },
     "execution_count": 5,
     "metadata": {},
     "output_type": "execute_result"
    }
   ],
   "source": [
    "simulation.model.v_inner.cgs"
   ]
  },
  {
   "cell_type": "code",
   "execution_count": 6,
   "metadata": {
    "execution": {
     "iopub.execute_input": "2021-06-27T00:24:56.800485Z",
     "iopub.status.busy": "2021-06-27T00:24:56.800045Z",
     "iopub.status.idle": "2021-06-27T00:24:56.802084Z",
     "shell.execute_reply": "2021-06-27T00:24:56.802426Z"
    }
   },
   "outputs": [
    {
     "data": {
      "text/latex": [
       "$[1.145 \\times 10^{9},~1.19 \\times 10^{9},~1.235 \\times 10^{9},~1.28 \\times 10^{9},~1.325 \\times 10^{9},~1.37 \\times 10^{9},~1.415 \\times 10^{9},~1.46 \\times 10^{9},~1.505 \\times 10^{9},~1.55 \\times 10^{9},~1.595 \\times 10^{9},~1.64 \\times 10^{9},~1.685 \\times 10^{9},~1.73 \\times 10^{9},~1.775 \\times 10^{9},~1.82 \\times 10^{9},~1.865 \\times 10^{9},~1.91 \\times 10^{9},~1.955 \\times 10^{9},~2 \\times 10^{9}] \\; \\mathrm{\\frac{cm}{s}}$"
      ],
      "text/plain": [
       "<Quantity [1.145e+09, 1.190e+09, 1.235e+09, 1.280e+09, 1.325e+09,\n",
       "           1.370e+09, 1.415e+09, 1.460e+09, 1.505e+09, 1.550e+09,\n",
       "           1.595e+09, 1.640e+09, 1.685e+09, 1.730e+09, 1.775e+09,\n",
       "           1.820e+09, 1.865e+09, 1.910e+09, 1.955e+09, 2.000e+09] cm / s>"
      ]
     },
     "execution_count": 6,
     "metadata": {},
     "output_type": "execute_result"
    }
   ],
   "source": [
    "simulation.model.v_outer.cgs"
   ]
  },
  {
   "cell_type": "markdown",
   "metadata": {},
   "source": [
    "The average density in the zones is given by `simulation.model.density.cgs`. These also exist as Astropy [Quantities](http://astropy.readthedocs.org/en/v0.2.1/_generated/astropy.units.quantity.Quantity.html)."
   ]
  },
  {
   "cell_type": "code",
   "execution_count": 7,
   "metadata": {
    "execution": {
     "iopub.execute_input": "2021-06-27T00:24:56.828436Z",
     "iopub.status.busy": "2021-06-27T00:24:56.820475Z",
     "iopub.status.idle": "2021-06-27T00:24:56.830158Z",
     "shell.execute_reply": "2021-06-27T00:24:56.830509Z"
    }
   },
   "outputs": [
    {
     "data": {
      "text/latex": [
       "$[7.5428036 \\times 10^{-14},~5.728475 \\times 10^{-14},~4.3960742 \\times 10^{-14},~3.4062874 \\times 10^{-14},~2.6631346 \\times 10^{-14},~2.0995965 \\times 10^{-14},~1.6682872 \\times 10^{-14},~1.3353105 \\times 10^{-14},~1.0761538 \\times 10^{-14},~8.7290848 \\times 10^{-15},~7.1236516 \\times 10^{-15},~5.8469209 \\times 10^{-15},~4.8250928 \\times 10^{-15},~4.0023242 \\times 10^{-15},~3.3360386 \\times 10^{-15},~2.7935404 \\times 10^{-15},~2.3495504 \\times 10^{-15},~1.9843968 \\times 10^{-15},~1.6826769 \\times 10^{-15},~1.4322598 \\times 10^{-15}] \\; \\mathrm{\\frac{g}{cm^{3}}}$"
      ],
      "text/plain": [
       "<Quantity [7.54280360e-14, 5.72847501e-14, 4.39607422e-14, 3.40628743e-14,\n",
       "           2.66313464e-14, 2.09959645e-14, 1.66828721e-14, 1.33531053e-14,\n",
       "           1.07615377e-14, 8.72908485e-15, 7.12365156e-15, 5.84692095e-15,\n",
       "           4.82509279e-15, 4.00232416e-15, 3.33603855e-15, 2.79354038e-15,\n",
       "           2.34955043e-15, 1.98439683e-15, 1.68267689e-15, 1.43225980e-15] g / cm3>"
      ]
     },
     "execution_count": 7,
     "metadata": {},
     "output_type": "execute_result"
    }
   ],
   "source": [
    "simulation.model.density.cgs"
   ]
  },
  {
   "cell_type": "markdown",
   "metadata": {},
   "source": [
    "Many other interesting quantities are stored in the `plasma`.\n",
    "For example the calculated ion populations and level populations is given by `simulation.plasma.ion_number_density` and `simulation.plasma.level_number_density` respectively."
   ]
  },
  {
   "cell_type": "code",
   "execution_count": 8,
   "metadata": {
    "execution": {
     "iopub.execute_input": "2021-06-27T00:24:56.842461Z",
     "iopub.status.busy": "2021-06-27T00:24:56.842029Z",
     "iopub.status.idle": "2021-06-27T00:24:56.860624Z",
     "shell.execute_reply": "2021-06-27T00:24:56.860979Z"
    }
   },
   "outputs": [
    {
     "data": {
      "text/html": [
       "<div>\n",
       "<style scoped>\n",
       "    .dataframe tbody tr th:only-of-type {\n",
       "        vertical-align: middle;\n",
       "    }\n",
       "\n",
       "    .dataframe tbody tr th {\n",
       "        vertical-align: top;\n",
       "    }\n",
       "\n",
       "    .dataframe thead th {\n",
       "        text-align: right;\n",
       "    }\n",
       "</style>\n",
       "<table border=\"1\" class=\"dataframe\">\n",
       "  <thead>\n",
       "    <tr style=\"text-align: right;\">\n",
       "      <th></th>\n",
       "      <th></th>\n",
       "      <th>0</th>\n",
       "      <th>1</th>\n",
       "      <th>2</th>\n",
       "      <th>3</th>\n",
       "      <th>4</th>\n",
       "      <th>5</th>\n",
       "      <th>6</th>\n",
       "      <th>7</th>\n",
       "      <th>8</th>\n",
       "      <th>9</th>\n",
       "      <th>10</th>\n",
       "      <th>11</th>\n",
       "      <th>12</th>\n",
       "      <th>13</th>\n",
       "      <th>14</th>\n",
       "      <th>15</th>\n",
       "      <th>16</th>\n",
       "      <th>17</th>\n",
       "      <th>18</th>\n",
       "      <th>19</th>\n",
       "    </tr>\n",
       "    <tr>\n",
       "      <th>atomic_number</th>\n",
       "      <th>ion_number</th>\n",
       "      <th></th>\n",
       "      <th></th>\n",
       "      <th></th>\n",
       "      <th></th>\n",
       "      <th></th>\n",
       "      <th></th>\n",
       "      <th></th>\n",
       "      <th></th>\n",
       "      <th></th>\n",
       "      <th></th>\n",
       "      <th></th>\n",
       "      <th></th>\n",
       "      <th></th>\n",
       "      <th></th>\n",
       "      <th></th>\n",
       "      <th></th>\n",
       "      <th></th>\n",
       "      <th></th>\n",
       "      <th></th>\n",
       "      <th></th>\n",
       "    </tr>\n",
       "  </thead>\n",
       "  <tbody>\n",
       "    <tr>\n",
       "      <th rowspan=\"5\" valign=\"top\">8</th>\n",
       "      <th>0</th>\n",
       "      <td>1.568934e+03</td>\n",
       "      <td>6.952752e+02</td>\n",
       "      <td>3.698943e+02</td>\n",
       "      <td>1.918389e+02</td>\n",
       "      <td>1.136714e+02</td>\n",
       "      <td>7.403361e+01</td>\n",
       "      <td>4.567743e+01</td>\n",
       "      <td>3.211089e+01</td>\n",
       "      <td>2.195740e+01</td>\n",
       "      <td>1.520823e+01</td>\n",
       "      <td>1.170259e+01</td>\n",
       "      <td>1.008358e+01</td>\n",
       "      <td>7.679209e+00</td>\n",
       "      <td>5.815062e+00</td>\n",
       "      <td>4.241477e+00</td>\n",
       "      <td>3.243966e+00</td>\n",
       "      <td>2.820865e+00</td>\n",
       "      <td>2.487229e+00</td>\n",
       "      <td>2.029423e+00</td>\n",
       "      <td>1.757640e+00</td>\n",
       "    </tr>\n",
       "    <tr>\n",
       "      <th>1</th>\n",
       "      <td>5.393549e+08</td>\n",
       "      <td>4.095388e+08</td>\n",
       "      <td>3.142136e+08</td>\n",
       "      <td>2.433547e+08</td>\n",
       "      <td>1.901883e+08</td>\n",
       "      <td>1.499148e+08</td>\n",
       "      <td>1.190558e+08</td>\n",
       "      <td>9.529323e+07</td>\n",
       "      <td>7.678296e+07</td>\n",
       "      <td>6.226849e+07</td>\n",
       "      <td>5.083348e+07</td>\n",
       "      <td>4.175281e+07</td>\n",
       "      <td>3.445973e+07</td>\n",
       "      <td>2.858539e+07</td>\n",
       "      <td>2.382455e+07</td>\n",
       "      <td>1.995114e+07</td>\n",
       "      <td>1.678654e+07</td>\n",
       "      <td>1.418171e+07</td>\n",
       "      <td>1.202653e+07</td>\n",
       "      <td>1.023820e+07</td>\n",
       "    </tr>\n",
       "    <tr>\n",
       "      <th>2</th>\n",
       "      <td>7.174501e+04</td>\n",
       "      <td>1.359290e+05</td>\n",
       "      <td>1.739749e+05</td>\n",
       "      <td>2.478170e+05</td>\n",
       "      <td>2.672799e+05</td>\n",
       "      <td>2.390430e+05</td>\n",
       "      <td>2.527221e+05</td>\n",
       "      <td>2.022825e+05</td>\n",
       "      <td>1.788094e+05</td>\n",
       "      <td>1.580769e+05</td>\n",
       "      <td>1.117345e+05</td>\n",
       "      <td>6.179215e+04</td>\n",
       "      <td>4.720572e+04</td>\n",
       "      <td>3.746934e+04</td>\n",
       "      <td>3.332902e+04</td>\n",
       "      <td>2.703093e+04</td>\n",
       "      <td>1.641143e+04</td>\n",
       "      <td>9.822780e+03</td>\n",
       "      <td>7.230808e+03</td>\n",
       "      <td>4.688720e+03</td>\n",
       "    </tr>\n",
       "    <tr>\n",
       "      <th>3</th>\n",
       "      <td>1.476568e-09</td>\n",
       "      <td>9.914678e-09</td>\n",
       "      <td>2.425438e-08</td>\n",
       "      <td>7.720839e-08</td>\n",
       "      <td>1.198904e-07</td>\n",
       "      <td>1.145296e-07</td>\n",
       "      <td>1.663525e-07</td>\n",
       "      <td>1.179342e-07</td>\n",
       "      <td>1.069737e-07</td>\n",
       "      <td>9.643292e-08</td>\n",
       "      <td>4.881382e-08</td>\n",
       "      <td>1.313909e-08</td>\n",
       "      <td>8.020232e-09</td>\n",
       "      <td>5.369765e-09</td>\n",
       "      <td>4.783377e-09</td>\n",
       "      <td>3.351369e-09</td>\n",
       "      <td>1.117334e-09</td>\n",
       "      <td>3.577779e-10</td>\n",
       "      <td>1.933696e-10</td>\n",
       "      <td>7.535925e-11</td>\n",
       "    </tr>\n",
       "    <tr>\n",
       "      <th>4</th>\n",
       "      <td>0.000000e+00</td>\n",
       "      <td>0.000000e+00</td>\n",
       "      <td>0.000000e+00</td>\n",
       "      <td>0.000000e+00</td>\n",
       "      <td>0.000000e+00</td>\n",
       "      <td>0.000000e+00</td>\n",
       "      <td>0.000000e+00</td>\n",
       "      <td>0.000000e+00</td>\n",
       "      <td>0.000000e+00</td>\n",
       "      <td>0.000000e+00</td>\n",
       "      <td>0.000000e+00</td>\n",
       "      <td>0.000000e+00</td>\n",
       "      <td>0.000000e+00</td>\n",
       "      <td>0.000000e+00</td>\n",
       "      <td>0.000000e+00</td>\n",
       "      <td>0.000000e+00</td>\n",
       "      <td>0.000000e+00</td>\n",
       "      <td>0.000000e+00</td>\n",
       "      <td>0.000000e+00</td>\n",
       "      <td>0.000000e+00</td>\n",
       "    </tr>\n",
       "    <tr>\n",
       "      <th>...</th>\n",
       "      <th>...</th>\n",
       "      <td>...</td>\n",
       "      <td>...</td>\n",
       "      <td>...</td>\n",
       "      <td>...</td>\n",
       "      <td>...</td>\n",
       "      <td>...</td>\n",
       "      <td>...</td>\n",
       "      <td>...</td>\n",
       "      <td>...</td>\n",
       "      <td>...</td>\n",
       "      <td>...</td>\n",
       "      <td>...</td>\n",
       "      <td>...</td>\n",
       "      <td>...</td>\n",
       "      <td>...</td>\n",
       "      <td>...</td>\n",
       "      <td>...</td>\n",
       "      <td>...</td>\n",
       "      <td>...</td>\n",
       "      <td>...</td>\n",
       "    </tr>\n",
       "    <tr>\n",
       "      <th rowspan=\"5\" valign=\"top\">20</th>\n",
       "      <th>16</th>\n",
       "      <td>0.000000e+00</td>\n",
       "      <td>0.000000e+00</td>\n",
       "      <td>0.000000e+00</td>\n",
       "      <td>0.000000e+00</td>\n",
       "      <td>0.000000e+00</td>\n",
       "      <td>0.000000e+00</td>\n",
       "      <td>0.000000e+00</td>\n",
       "      <td>0.000000e+00</td>\n",
       "      <td>0.000000e+00</td>\n",
       "      <td>0.000000e+00</td>\n",
       "      <td>0.000000e+00</td>\n",
       "      <td>0.000000e+00</td>\n",
       "      <td>0.000000e+00</td>\n",
       "      <td>0.000000e+00</td>\n",
       "      <td>0.000000e+00</td>\n",
       "      <td>0.000000e+00</td>\n",
       "      <td>0.000000e+00</td>\n",
       "      <td>0.000000e+00</td>\n",
       "      <td>0.000000e+00</td>\n",
       "      <td>0.000000e+00</td>\n",
       "    </tr>\n",
       "    <tr>\n",
       "      <th>17</th>\n",
       "      <td>0.000000e+00</td>\n",
       "      <td>0.000000e+00</td>\n",
       "      <td>0.000000e+00</td>\n",
       "      <td>0.000000e+00</td>\n",
       "      <td>0.000000e+00</td>\n",
       "      <td>0.000000e+00</td>\n",
       "      <td>0.000000e+00</td>\n",
       "      <td>0.000000e+00</td>\n",
       "      <td>0.000000e+00</td>\n",
       "      <td>0.000000e+00</td>\n",
       "      <td>0.000000e+00</td>\n",
       "      <td>0.000000e+00</td>\n",
       "      <td>0.000000e+00</td>\n",
       "      <td>0.000000e+00</td>\n",
       "      <td>0.000000e+00</td>\n",
       "      <td>0.000000e+00</td>\n",
       "      <td>0.000000e+00</td>\n",
       "      <td>0.000000e+00</td>\n",
       "      <td>0.000000e+00</td>\n",
       "      <td>0.000000e+00</td>\n",
       "    </tr>\n",
       "    <tr>\n",
       "      <th>18</th>\n",
       "      <td>0.000000e+00</td>\n",
       "      <td>0.000000e+00</td>\n",
       "      <td>0.000000e+00</td>\n",
       "      <td>0.000000e+00</td>\n",
       "      <td>0.000000e+00</td>\n",
       "      <td>0.000000e+00</td>\n",
       "      <td>0.000000e+00</td>\n",
       "      <td>0.000000e+00</td>\n",
       "      <td>0.000000e+00</td>\n",
       "      <td>0.000000e+00</td>\n",
       "      <td>0.000000e+00</td>\n",
       "      <td>0.000000e+00</td>\n",
       "      <td>0.000000e+00</td>\n",
       "      <td>0.000000e+00</td>\n",
       "      <td>0.000000e+00</td>\n",
       "      <td>0.000000e+00</td>\n",
       "      <td>0.000000e+00</td>\n",
       "      <td>0.000000e+00</td>\n",
       "      <td>0.000000e+00</td>\n",
       "      <td>0.000000e+00</td>\n",
       "    </tr>\n",
       "    <tr>\n",
       "      <th>19</th>\n",
       "      <td>0.000000e+00</td>\n",
       "      <td>0.000000e+00</td>\n",
       "      <td>0.000000e+00</td>\n",
       "      <td>0.000000e+00</td>\n",
       "      <td>0.000000e+00</td>\n",
       "      <td>0.000000e+00</td>\n",
       "      <td>0.000000e+00</td>\n",
       "      <td>0.000000e+00</td>\n",
       "      <td>0.000000e+00</td>\n",
       "      <td>0.000000e+00</td>\n",
       "      <td>0.000000e+00</td>\n",
       "      <td>0.000000e+00</td>\n",
       "      <td>0.000000e+00</td>\n",
       "      <td>0.000000e+00</td>\n",
       "      <td>0.000000e+00</td>\n",
       "      <td>0.000000e+00</td>\n",
       "      <td>0.000000e+00</td>\n",
       "      <td>0.000000e+00</td>\n",
       "      <td>0.000000e+00</td>\n",
       "      <td>0.000000e+00</td>\n",
       "    </tr>\n",
       "    <tr>\n",
       "      <th>20</th>\n",
       "      <td>0.000000e+00</td>\n",
       "      <td>0.000000e+00</td>\n",
       "      <td>0.000000e+00</td>\n",
       "      <td>0.000000e+00</td>\n",
       "      <td>0.000000e+00</td>\n",
       "      <td>0.000000e+00</td>\n",
       "      <td>0.000000e+00</td>\n",
       "      <td>0.000000e+00</td>\n",
       "      <td>0.000000e+00</td>\n",
       "      <td>0.000000e+00</td>\n",
       "      <td>0.000000e+00</td>\n",
       "      <td>0.000000e+00</td>\n",
       "      <td>0.000000e+00</td>\n",
       "      <td>0.000000e+00</td>\n",
       "      <td>0.000000e+00</td>\n",
       "      <td>0.000000e+00</td>\n",
       "      <td>0.000000e+00</td>\n",
       "      <td>0.000000e+00</td>\n",
       "      <td>0.000000e+00</td>\n",
       "      <td>0.000000e+00</td>\n",
       "    </tr>\n",
       "  </tbody>\n",
       "</table>\n",
       "<p>94 rows × 20 columns</p>\n",
       "</div>"
      ],
      "text/plain": [
       "                                     0             1             2  \\\n",
       "atomic_number ion_number                                             \n",
       "8             0           1.568934e+03  6.952752e+02  3.698943e+02   \n",
       "              1           5.393549e+08  4.095388e+08  3.142136e+08   \n",
       "              2           7.174501e+04  1.359290e+05  1.739749e+05   \n",
       "              3           1.476568e-09  9.914678e-09  2.425438e-08   \n",
       "              4           0.000000e+00  0.000000e+00  0.000000e+00   \n",
       "...                                ...           ...           ...   \n",
       "20            16          0.000000e+00  0.000000e+00  0.000000e+00   \n",
       "              17          0.000000e+00  0.000000e+00  0.000000e+00   \n",
       "              18          0.000000e+00  0.000000e+00  0.000000e+00   \n",
       "              19          0.000000e+00  0.000000e+00  0.000000e+00   \n",
       "              20          0.000000e+00  0.000000e+00  0.000000e+00   \n",
       "\n",
       "                                     3             4             5  \\\n",
       "atomic_number ion_number                                             \n",
       "8             0           1.918389e+02  1.136714e+02  7.403361e+01   \n",
       "              1           2.433547e+08  1.901883e+08  1.499148e+08   \n",
       "              2           2.478170e+05  2.672799e+05  2.390430e+05   \n",
       "              3           7.720839e-08  1.198904e-07  1.145296e-07   \n",
       "              4           0.000000e+00  0.000000e+00  0.000000e+00   \n",
       "...                                ...           ...           ...   \n",
       "20            16          0.000000e+00  0.000000e+00  0.000000e+00   \n",
       "              17          0.000000e+00  0.000000e+00  0.000000e+00   \n",
       "              18          0.000000e+00  0.000000e+00  0.000000e+00   \n",
       "              19          0.000000e+00  0.000000e+00  0.000000e+00   \n",
       "              20          0.000000e+00  0.000000e+00  0.000000e+00   \n",
       "\n",
       "                                     6             7             8  \\\n",
       "atomic_number ion_number                                             \n",
       "8             0           4.567743e+01  3.211089e+01  2.195740e+01   \n",
       "              1           1.190558e+08  9.529323e+07  7.678296e+07   \n",
       "              2           2.527221e+05  2.022825e+05  1.788094e+05   \n",
       "              3           1.663525e-07  1.179342e-07  1.069737e-07   \n",
       "              4           0.000000e+00  0.000000e+00  0.000000e+00   \n",
       "...                                ...           ...           ...   \n",
       "20            16          0.000000e+00  0.000000e+00  0.000000e+00   \n",
       "              17          0.000000e+00  0.000000e+00  0.000000e+00   \n",
       "              18          0.000000e+00  0.000000e+00  0.000000e+00   \n",
       "              19          0.000000e+00  0.000000e+00  0.000000e+00   \n",
       "              20          0.000000e+00  0.000000e+00  0.000000e+00   \n",
       "\n",
       "                                     9            10            11  \\\n",
       "atomic_number ion_number                                             \n",
       "8             0           1.520823e+01  1.170259e+01  1.008358e+01   \n",
       "              1           6.226849e+07  5.083348e+07  4.175281e+07   \n",
       "              2           1.580769e+05  1.117345e+05  6.179215e+04   \n",
       "              3           9.643292e-08  4.881382e-08  1.313909e-08   \n",
       "              4           0.000000e+00  0.000000e+00  0.000000e+00   \n",
       "...                                ...           ...           ...   \n",
       "20            16          0.000000e+00  0.000000e+00  0.000000e+00   \n",
       "              17          0.000000e+00  0.000000e+00  0.000000e+00   \n",
       "              18          0.000000e+00  0.000000e+00  0.000000e+00   \n",
       "              19          0.000000e+00  0.000000e+00  0.000000e+00   \n",
       "              20          0.000000e+00  0.000000e+00  0.000000e+00   \n",
       "\n",
       "                                    12            13            14  \\\n",
       "atomic_number ion_number                                             \n",
       "8             0           7.679209e+00  5.815062e+00  4.241477e+00   \n",
       "              1           3.445973e+07  2.858539e+07  2.382455e+07   \n",
       "              2           4.720572e+04  3.746934e+04  3.332902e+04   \n",
       "              3           8.020232e-09  5.369765e-09  4.783377e-09   \n",
       "              4           0.000000e+00  0.000000e+00  0.000000e+00   \n",
       "...                                ...           ...           ...   \n",
       "20            16          0.000000e+00  0.000000e+00  0.000000e+00   \n",
       "              17          0.000000e+00  0.000000e+00  0.000000e+00   \n",
       "              18          0.000000e+00  0.000000e+00  0.000000e+00   \n",
       "              19          0.000000e+00  0.000000e+00  0.000000e+00   \n",
       "              20          0.000000e+00  0.000000e+00  0.000000e+00   \n",
       "\n",
       "                                    15            16            17  \\\n",
       "atomic_number ion_number                                             \n",
       "8             0           3.243966e+00  2.820865e+00  2.487229e+00   \n",
       "              1           1.995114e+07  1.678654e+07  1.418171e+07   \n",
       "              2           2.703093e+04  1.641143e+04  9.822780e+03   \n",
       "              3           3.351369e-09  1.117334e-09  3.577779e-10   \n",
       "              4           0.000000e+00  0.000000e+00  0.000000e+00   \n",
       "...                                ...           ...           ...   \n",
       "20            16          0.000000e+00  0.000000e+00  0.000000e+00   \n",
       "              17          0.000000e+00  0.000000e+00  0.000000e+00   \n",
       "              18          0.000000e+00  0.000000e+00  0.000000e+00   \n",
       "              19          0.000000e+00  0.000000e+00  0.000000e+00   \n",
       "              20          0.000000e+00  0.000000e+00  0.000000e+00   \n",
       "\n",
       "                                    18            19  \n",
       "atomic_number ion_number                              \n",
       "8             0           2.029423e+00  1.757640e+00  \n",
       "              1           1.202653e+07  1.023820e+07  \n",
       "              2           7.230808e+03  4.688720e+03  \n",
       "              3           1.933696e-10  7.535925e-11  \n",
       "              4           0.000000e+00  0.000000e+00  \n",
       "...                                ...           ...  \n",
       "20            16          0.000000e+00  0.000000e+00  \n",
       "              17          0.000000e+00  0.000000e+00  \n",
       "              18          0.000000e+00  0.000000e+00  \n",
       "              19          0.000000e+00  0.000000e+00  \n",
       "              20          0.000000e+00  0.000000e+00  \n",
       "\n",
       "[94 rows x 20 columns]"
      ]
     },
     "execution_count": 8,
     "metadata": {},
     "output_type": "execute_result"
    }
   ],
   "source": [
    "simulation.plasma.ion_number_density"
   ]
  },
  {
   "cell_type": "code",
   "execution_count": 9,
   "metadata": {
    "execution": {
     "iopub.execute_input": "2021-06-27T00:24:56.872085Z",
     "iopub.status.busy": "2021-06-27T00:24:56.871656Z",
     "iopub.status.idle": "2021-06-27T00:24:56.887383Z",
     "shell.execute_reply": "2021-06-27T00:24:56.886972Z"
    }
   },
   "outputs": [
    {
     "data": {
      "text/html": [
       "<div>\n",
       "<style scoped>\n",
       "    .dataframe tbody tr th:only-of-type {\n",
       "        vertical-align: middle;\n",
       "    }\n",
       "\n",
       "    .dataframe tbody tr th {\n",
       "        vertical-align: top;\n",
       "    }\n",
       "\n",
       "    .dataframe thead th {\n",
       "        text-align: right;\n",
       "    }\n",
       "</style>\n",
       "<table border=\"1\" class=\"dataframe\">\n",
       "  <thead>\n",
       "    <tr style=\"text-align: right;\">\n",
       "      <th></th>\n",
       "      <th></th>\n",
       "      <th></th>\n",
       "      <th>0</th>\n",
       "      <th>1</th>\n",
       "      <th>2</th>\n",
       "      <th>3</th>\n",
       "      <th>4</th>\n",
       "      <th>5</th>\n",
       "      <th>6</th>\n",
       "      <th>7</th>\n",
       "      <th>8</th>\n",
       "      <th>9</th>\n",
       "      <th>10</th>\n",
       "      <th>11</th>\n",
       "      <th>12</th>\n",
       "      <th>13</th>\n",
       "      <th>14</th>\n",
       "      <th>15</th>\n",
       "      <th>16</th>\n",
       "      <th>17</th>\n",
       "      <th>18</th>\n",
       "      <th>19</th>\n",
       "    </tr>\n",
       "    <tr>\n",
       "      <th>atomic_number</th>\n",
       "      <th>ion_number</th>\n",
       "      <th>level_number</th>\n",
       "      <th></th>\n",
       "      <th></th>\n",
       "      <th></th>\n",
       "      <th></th>\n",
       "      <th></th>\n",
       "      <th></th>\n",
       "      <th></th>\n",
       "      <th></th>\n",
       "      <th></th>\n",
       "      <th></th>\n",
       "      <th></th>\n",
       "      <th></th>\n",
       "      <th></th>\n",
       "      <th></th>\n",
       "      <th></th>\n",
       "      <th></th>\n",
       "      <th></th>\n",
       "      <th></th>\n",
       "      <th></th>\n",
       "      <th></th>\n",
       "    </tr>\n",
       "  </thead>\n",
       "  <tbody>\n",
       "    <tr>\n",
       "      <th rowspan=\"5\" valign=\"top\">8</th>\n",
       "      <th rowspan=\"5\" valign=\"top\">0</th>\n",
       "      <th>0</th>\n",
       "      <td>824.280187</td>\n",
       "      <td>364.371458</td>\n",
       "      <td>193.658162</td>\n",
       "      <td>100.292884</td>\n",
       "      <td>59.408349</td>\n",
       "      <td>38.709783</td>\n",
       "      <td>23.877648</td>\n",
       "      <td>16.800925</td>\n",
       "      <td>11.494104</td>\n",
       "      <td>7.964980</td>\n",
       "      <td>6.137380</td>\n",
       "      <td>5.300400</td>\n",
       "      <td>4.040644</td>\n",
       "      <td>3.062394</td>\n",
       "      <td>2.234653</td>\n",
       "      <td>1.710414</td>\n",
       "      <td>1.490001</td>\n",
       "      <td>1.316137</td>\n",
       "      <td>1.075014</td>\n",
       "      <td>0.932407</td>\n",
       "    </tr>\n",
       "    <tr>\n",
       "      <th>1</th>\n",
       "      <td>484.201224</td>\n",
       "      <td>214.114464</td>\n",
       "      <td>113.814044</td>\n",
       "      <td>58.954065</td>\n",
       "      <td>34.922818</td>\n",
       "      <td>22.753941</td>\n",
       "      <td>14.035923</td>\n",
       "      <td>9.874851</td>\n",
       "      <td>6.755287</td>\n",
       "      <td>4.680850</td>\n",
       "      <td>3.606131</td>\n",
       "      <td>3.113350</td>\n",
       "      <td>2.373049</td>\n",
       "      <td>1.798303</td>\n",
       "      <td>1.312154</td>\n",
       "      <td>1.004215</td>\n",
       "      <td>0.874571</td>\n",
       "      <td>0.772305</td>\n",
       "      <td>0.630710</td>\n",
       "      <td>0.546914</td>\n",
       "    </tr>\n",
       "    <tr>\n",
       "      <th>2</th>\n",
       "      <td>159.922760</td>\n",
       "      <td>70.728720</td>\n",
       "      <td>37.598541</td>\n",
       "      <td>19.477140</td>\n",
       "      <td>11.537949</td>\n",
       "      <td>7.517349</td>\n",
       "      <td>4.637190</td>\n",
       "      <td>3.262285</td>\n",
       "      <td>2.231633</td>\n",
       "      <td>1.546291</td>\n",
       "      <td>1.191167</td>\n",
       "      <td>1.028249</td>\n",
       "      <td>0.783700</td>\n",
       "      <td>0.593858</td>\n",
       "      <td>0.433304</td>\n",
       "      <td>0.331599</td>\n",
       "      <td>0.288756</td>\n",
       "      <td>0.254960</td>\n",
       "      <td>0.208201</td>\n",
       "      <td>0.180521</td>\n",
       "    </tr>\n",
       "    <tr>\n",
       "      <th>3</th>\n",
       "      <td>98.547958</td>\n",
       "      <td>45.104489</td>\n",
       "      <td>24.297738</td>\n",
       "      <td>12.828640</td>\n",
       "      <td>7.630971</td>\n",
       "      <td>4.942600</td>\n",
       "      <td>3.058311</td>\n",
       "      <td>2.126191</td>\n",
       "      <td>1.445004</td>\n",
       "      <td>0.994730</td>\n",
       "      <td>0.752203</td>\n",
       "      <td>0.629063</td>\n",
       "      <td>0.472612</td>\n",
       "      <td>0.353742</td>\n",
       "      <td>0.256505</td>\n",
       "      <td>0.194117</td>\n",
       "      <td>0.164584</td>\n",
       "      <td>0.141385</td>\n",
       "      <td>0.113581</td>\n",
       "      <td>0.096225</td>\n",
       "    </tr>\n",
       "    <tr>\n",
       "      <th>4</th>\n",
       "      <td>1.789293</td>\n",
       "      <td>0.851754</td>\n",
       "      <td>0.465879</td>\n",
       "      <td>0.251394</td>\n",
       "      <td>0.150249</td>\n",
       "      <td>0.096662</td>\n",
       "      <td>0.060022</td>\n",
       "      <td>0.041166</td>\n",
       "      <td>0.027768</td>\n",
       "      <td>0.018973</td>\n",
       "      <td>0.014046</td>\n",
       "      <td>0.011327</td>\n",
       "      <td>0.008371</td>\n",
       "      <td>0.006178</td>\n",
       "      <td>0.004448</td>\n",
       "      <td>0.003323</td>\n",
       "      <td>0.002733</td>\n",
       "      <td>0.002275</td>\n",
       "      <td>0.001793</td>\n",
       "      <td>0.001480</td>\n",
       "    </tr>\n",
       "    <tr>\n",
       "      <th>...</th>\n",
       "      <th>...</th>\n",
       "      <th>...</th>\n",
       "      <td>...</td>\n",
       "      <td>...</td>\n",
       "      <td>...</td>\n",
       "      <td>...</td>\n",
       "      <td>...</td>\n",
       "      <td>...</td>\n",
       "      <td>...</td>\n",
       "      <td>...</td>\n",
       "      <td>...</td>\n",
       "      <td>...</td>\n",
       "      <td>...</td>\n",
       "      <td>...</td>\n",
       "      <td>...</td>\n",
       "      <td>...</td>\n",
       "      <td>...</td>\n",
       "      <td>...</td>\n",
       "      <td>...</td>\n",
       "      <td>...</td>\n",
       "      <td>...</td>\n",
       "      <td>...</td>\n",
       "    </tr>\n",
       "    <tr>\n",
       "      <th rowspan=\"5\" valign=\"top\">20</th>\n",
       "      <th>16</th>\n",
       "      <th>0</th>\n",
       "      <td>0.000000</td>\n",
       "      <td>0.000000</td>\n",
       "      <td>0.000000</td>\n",
       "      <td>0.000000</td>\n",
       "      <td>0.000000</td>\n",
       "      <td>0.000000</td>\n",
       "      <td>0.000000</td>\n",
       "      <td>0.000000</td>\n",
       "      <td>0.000000</td>\n",
       "      <td>0.000000</td>\n",
       "      <td>0.000000</td>\n",
       "      <td>0.000000</td>\n",
       "      <td>0.000000</td>\n",
       "      <td>0.000000</td>\n",
       "      <td>0.000000</td>\n",
       "      <td>0.000000</td>\n",
       "      <td>0.000000</td>\n",
       "      <td>0.000000</td>\n",
       "      <td>0.000000</td>\n",
       "      <td>0.000000</td>\n",
       "    </tr>\n",
       "    <tr>\n",
       "      <th>17</th>\n",
       "      <th>0</th>\n",
       "      <td>0.000000</td>\n",
       "      <td>0.000000</td>\n",
       "      <td>0.000000</td>\n",
       "      <td>0.000000</td>\n",
       "      <td>0.000000</td>\n",
       "      <td>0.000000</td>\n",
       "      <td>0.000000</td>\n",
       "      <td>0.000000</td>\n",
       "      <td>0.000000</td>\n",
       "      <td>0.000000</td>\n",
       "      <td>0.000000</td>\n",
       "      <td>0.000000</td>\n",
       "      <td>0.000000</td>\n",
       "      <td>0.000000</td>\n",
       "      <td>0.000000</td>\n",
       "      <td>0.000000</td>\n",
       "      <td>0.000000</td>\n",
       "      <td>0.000000</td>\n",
       "      <td>0.000000</td>\n",
       "      <td>0.000000</td>\n",
       "    </tr>\n",
       "    <tr>\n",
       "      <th>18</th>\n",
       "      <th>0</th>\n",
       "      <td>0.000000</td>\n",
       "      <td>0.000000</td>\n",
       "      <td>0.000000</td>\n",
       "      <td>0.000000</td>\n",
       "      <td>0.000000</td>\n",
       "      <td>0.000000</td>\n",
       "      <td>0.000000</td>\n",
       "      <td>0.000000</td>\n",
       "      <td>0.000000</td>\n",
       "      <td>0.000000</td>\n",
       "      <td>0.000000</td>\n",
       "      <td>0.000000</td>\n",
       "      <td>0.000000</td>\n",
       "      <td>0.000000</td>\n",
       "      <td>0.000000</td>\n",
       "      <td>0.000000</td>\n",
       "      <td>0.000000</td>\n",
       "      <td>0.000000</td>\n",
       "      <td>0.000000</td>\n",
       "      <td>0.000000</td>\n",
       "    </tr>\n",
       "    <tr>\n",
       "      <th>19</th>\n",
       "      <th>0</th>\n",
       "      <td>0.000000</td>\n",
       "      <td>0.000000</td>\n",
       "      <td>0.000000</td>\n",
       "      <td>0.000000</td>\n",
       "      <td>0.000000</td>\n",
       "      <td>0.000000</td>\n",
       "      <td>0.000000</td>\n",
       "      <td>0.000000</td>\n",
       "      <td>0.000000</td>\n",
       "      <td>0.000000</td>\n",
       "      <td>0.000000</td>\n",
       "      <td>0.000000</td>\n",
       "      <td>0.000000</td>\n",
       "      <td>0.000000</td>\n",
       "      <td>0.000000</td>\n",
       "      <td>0.000000</td>\n",
       "      <td>0.000000</td>\n",
       "      <td>0.000000</td>\n",
       "      <td>0.000000</td>\n",
       "      <td>0.000000</td>\n",
       "    </tr>\n",
       "    <tr>\n",
       "      <th>20</th>\n",
       "      <th>0</th>\n",
       "      <td>0.000000</td>\n",
       "      <td>0.000000</td>\n",
       "      <td>0.000000</td>\n",
       "      <td>0.000000</td>\n",
       "      <td>0.000000</td>\n",
       "      <td>0.000000</td>\n",
       "      <td>0.000000</td>\n",
       "      <td>0.000000</td>\n",
       "      <td>0.000000</td>\n",
       "      <td>0.000000</td>\n",
       "      <td>0.000000</td>\n",
       "      <td>0.000000</td>\n",
       "      <td>0.000000</td>\n",
       "      <td>0.000000</td>\n",
       "      <td>0.000000</td>\n",
       "      <td>0.000000</td>\n",
       "      <td>0.000000</td>\n",
       "      <td>0.000000</td>\n",
       "      <td>0.000000</td>\n",
       "      <td>0.000000</td>\n",
       "    </tr>\n",
       "  </tbody>\n",
       "</table>\n",
       "<p>4435 rows × 20 columns</p>\n",
       "</div>"
      ],
      "text/plain": [
       "                                                0           1           2  \\\n",
       "atomic_number ion_number level_number                                       \n",
       "8             0          0             824.280187  364.371458  193.658162   \n",
       "                         1             484.201224  214.114464  113.814044   \n",
       "                         2             159.922760   70.728720   37.598541   \n",
       "                         3              98.547958   45.104489   24.297738   \n",
       "                         4               1.789293    0.851754    0.465879   \n",
       "...                                           ...         ...         ...   \n",
       "20            16         0               0.000000    0.000000    0.000000   \n",
       "              17         0               0.000000    0.000000    0.000000   \n",
       "              18         0               0.000000    0.000000    0.000000   \n",
       "              19         0               0.000000    0.000000    0.000000   \n",
       "              20         0               0.000000    0.000000    0.000000   \n",
       "\n",
       "                                                3          4          5  \\\n",
       "atomic_number ion_number level_number                                     \n",
       "8             0          0             100.292884  59.408349  38.709783   \n",
       "                         1              58.954065  34.922818  22.753941   \n",
       "                         2              19.477140  11.537949   7.517349   \n",
       "                         3              12.828640   7.630971   4.942600   \n",
       "                         4               0.251394   0.150249   0.096662   \n",
       "...                                           ...        ...        ...   \n",
       "20            16         0               0.000000   0.000000   0.000000   \n",
       "              17         0               0.000000   0.000000   0.000000   \n",
       "              18         0               0.000000   0.000000   0.000000   \n",
       "              19         0               0.000000   0.000000   0.000000   \n",
       "              20         0               0.000000   0.000000   0.000000   \n",
       "\n",
       "                                               6          7          8  \\\n",
       "atomic_number ion_number level_number                                    \n",
       "8             0          0             23.877648  16.800925  11.494104   \n",
       "                         1             14.035923   9.874851   6.755287   \n",
       "                         2              4.637190   3.262285   2.231633   \n",
       "                         3              3.058311   2.126191   1.445004   \n",
       "                         4              0.060022   0.041166   0.027768   \n",
       "...                                          ...        ...        ...   \n",
       "20            16         0              0.000000   0.000000   0.000000   \n",
       "              17         0              0.000000   0.000000   0.000000   \n",
       "              18         0              0.000000   0.000000   0.000000   \n",
       "              19         0              0.000000   0.000000   0.000000   \n",
       "              20         0              0.000000   0.000000   0.000000   \n",
       "\n",
       "                                              9        10        11        12  \\\n",
       "atomic_number ion_number level_number                                           \n",
       "8             0          0             7.964980  6.137380  5.300400  4.040644   \n",
       "                         1             4.680850  3.606131  3.113350  2.373049   \n",
       "                         2             1.546291  1.191167  1.028249  0.783700   \n",
       "                         3             0.994730  0.752203  0.629063  0.472612   \n",
       "                         4             0.018973  0.014046  0.011327  0.008371   \n",
       "...                                         ...       ...       ...       ...   \n",
       "20            16         0             0.000000  0.000000  0.000000  0.000000   \n",
       "              17         0             0.000000  0.000000  0.000000  0.000000   \n",
       "              18         0             0.000000  0.000000  0.000000  0.000000   \n",
       "              19         0             0.000000  0.000000  0.000000  0.000000   \n",
       "              20         0             0.000000  0.000000  0.000000  0.000000   \n",
       "\n",
       "                                             13        14        15        16  \\\n",
       "atomic_number ion_number level_number                                           \n",
       "8             0          0             3.062394  2.234653  1.710414  1.490001   \n",
       "                         1             1.798303  1.312154  1.004215  0.874571   \n",
       "                         2             0.593858  0.433304  0.331599  0.288756   \n",
       "                         3             0.353742  0.256505  0.194117  0.164584   \n",
       "                         4             0.006178  0.004448  0.003323  0.002733   \n",
       "...                                         ...       ...       ...       ...   \n",
       "20            16         0             0.000000  0.000000  0.000000  0.000000   \n",
       "              17         0             0.000000  0.000000  0.000000  0.000000   \n",
       "              18         0             0.000000  0.000000  0.000000  0.000000   \n",
       "              19         0             0.000000  0.000000  0.000000  0.000000   \n",
       "              20         0             0.000000  0.000000  0.000000  0.000000   \n",
       "\n",
       "                                             17        18        19  \n",
       "atomic_number ion_number level_number                                \n",
       "8             0          0             1.316137  1.075014  0.932407  \n",
       "                         1             0.772305  0.630710  0.546914  \n",
       "                         2             0.254960  0.208201  0.180521  \n",
       "                         3             0.141385  0.113581  0.096225  \n",
       "                         4             0.002275  0.001793  0.001480  \n",
       "...                                         ...       ...       ...  \n",
       "20            16         0             0.000000  0.000000  0.000000  \n",
       "              17         0             0.000000  0.000000  0.000000  \n",
       "              18         0             0.000000  0.000000  0.000000  \n",
       "              19         0             0.000000  0.000000  0.000000  \n",
       "              20         0             0.000000  0.000000  0.000000  \n",
       "\n",
       "[4435 rows x 20 columns]"
      ]
     },
     "execution_count": 9,
     "metadata": {},
     "output_type": "execute_result"
    }
   ],
   "source": [
    "simulation.plasma.level_number_density"
   ]
  },
  {
   "cell_type": "markdown",
   "metadata": {},
   "source": [
    "These are stored as Pandas `DataFrames`. An index can be supplied to obtain the population in a particular zone. E.g., for the ion populations of the innermost zone (index = 0), we will use \n",
    "`simulation.plasma.ion_number_density[0]`"
   ]
  },
  {
   "cell_type": "code",
   "execution_count": 10,
   "metadata": {
    "execution": {
     "iopub.execute_input": "2021-06-27T00:24:56.894138Z",
     "iopub.status.busy": "2021-06-27T00:24:56.893698Z",
     "iopub.status.idle": "2021-06-27T00:24:56.895747Z",
     "shell.execute_reply": "2021-06-27T00:24:56.896092Z"
    }
   },
   "outputs": [
    {
     "data": {
      "text/plain": [
       "atomic_number  ion_number\n",
       "8              0             1.568934e+03\n",
       "               1             5.393549e+08\n",
       "               2             7.174501e+04\n",
       "               3             1.476568e-09\n",
       "               4             0.000000e+00\n",
       "                                 ...     \n",
       "20             16            0.000000e+00\n",
       "               17            0.000000e+00\n",
       "               18            0.000000e+00\n",
       "               19            0.000000e+00\n",
       "               20            0.000000e+00\n",
       "Name: 0, Length: 94, dtype: float64"
      ]
     },
     "execution_count": 10,
     "metadata": {},
     "output_type": "execute_result"
    }
   ],
   "source": [
    "simulation.plasma.ion_number_density[0]"
   ]
  },
  {
   "cell_type": "markdown",
   "metadata": {},
   "source": [
    "Ion populations for a particular ionization stage of a particular element can be accessed by specifying an appropriate tuple (𝑍,𝐶), which identifies the element (via atomic number 𝑍 ) and the charge (via the ion charge 𝐶 ). Thus, `simulation.plasma.ion_number_density.loc[14,1]` will identify the ion popuations for Si II (𝑍=14,𝐶=1) in all the zones. "
   ]
  },
  {
   "cell_type": "code",
   "execution_count": 11,
   "metadata": {
    "execution": {
     "iopub.execute_input": "2021-06-27T00:24:56.901189Z",
     "iopub.status.busy": "2021-06-27T00:24:56.900750Z",
     "iopub.status.idle": "2021-06-27T00:24:56.902788Z",
     "shell.execute_reply": "2021-06-27T00:24:56.903131Z"
    }
   },
   "outputs": [
    {
     "data": {
      "text/plain": [
       "0     122900.603559\n",
       "1      51976.762920\n",
       "2      27140.694712\n",
       "3      13697.355482\n",
       "4       8058.877388\n",
       "5       5285.861658\n",
       "6       3240.954372\n",
       "7       2314.462543\n",
       "8       1595.027088\n",
       "9       1113.380447\n",
       "10       879.373773\n",
       "11       792.926811\n",
       "12       615.890161\n",
       "13       474.276163\n",
       "14       348.692232\n",
       "15       270.771744\n",
       "16       244.500089\n",
       "17       224.031269\n",
       "18       186.974715\n",
       "19       167.223030\n",
       "Name: (14, 1), dtype: float64"
      ]
     },
     "execution_count": 11,
     "metadata": {},
     "output_type": "execute_result"
    }
   ],
   "source": [
    "simulation.plasma.ion_number_density.loc[14,1]"
   ]
  },
  {
   "cell_type": "markdown",
   "metadata": {},
   "source": [
    "The above examples can be combined to obtain e.g. the Si II population in the innermost zone\n",
    "can be obtained by\n",
    "`simulation.plasma.ion_number_density[0].loc[14,1]`"
   ]
  },
  {
   "cell_type": "code",
   "execution_count": 12,
   "metadata": {
    "execution": {
     "iopub.execute_input": "2021-06-27T00:24:56.907469Z",
     "iopub.status.busy": "2021-06-27T00:24:56.907009Z",
     "iopub.status.idle": "2021-06-27T00:24:56.909002Z",
     "shell.execute_reply": "2021-06-27T00:24:56.909343Z"
    }
   },
   "outputs": [
    {
     "data": {
      "text/plain": [
       "122900.60355949405"
      ]
     },
     "execution_count": 12,
     "metadata": {},
     "output_type": "execute_result"
    }
   ],
   "source": [
    "simulation.plasma.ion_number_density[0].loc[14,1]"
   ]
  },
  {
   "cell_type": "markdown",
   "metadata": {},
   "source": [
    "The level populations are stored (and can be accessed) in a similar way - a third label can be used to pick out a particular atomic level. E.g., to pull out the population of the ground state (index 0) of Si II we can use `simulation.plasma.level_number_density.loc[14,1,0]`"
   ]
  },
  {
   "cell_type": "code",
   "execution_count": 13,
   "metadata": {
    "execution": {
     "iopub.execute_input": "2021-06-27T00:24:56.914408Z",
     "iopub.status.busy": "2021-06-27T00:24:56.913960Z",
     "iopub.status.idle": "2021-06-27T00:24:56.916034Z",
     "shell.execute_reply": "2021-06-27T00:24:56.916377Z"
    }
   },
   "outputs": [
    {
     "data": {
      "text/plain": [
       "0     41700.507877\n",
       "1     17614.347886\n",
       "2      9193.121030\n",
       "3      4636.179647\n",
       "4      2727.263994\n",
       "5      1789.242996\n",
       "6      1096.917477\n",
       "7       783.703172\n",
       "8       540.228911\n",
       "9       377.190000\n",
       "10      298.116642\n",
       "11      269.108772\n",
       "12      209.125533\n",
       "13      161.105327\n",
       "14      118.469782\n",
       "15       92.028427\n",
       "16       83.167159\n",
       "17       76.265641\n",
       "18       63.679954\n",
       "19       56.988781\n",
       "Name: (14, 1, 0), dtype: float64"
      ]
     },
     "execution_count": 13,
     "metadata": {},
     "output_type": "execute_result"
    }
   ],
   "source": [
    "simulation.plasma.level_number_density.loc[14,1,0]"
   ]
  },
  {
   "cell_type": "markdown",
   "metadata": {},
   "source": [
    "### Notes\n",
    "- If you prefer to work in SI units, all the Astropy Quantities may instead by accessed with “xxx.si”.\n",
    "\n",
    "- Information that is not stored as Astropy Quantities (e.g. the ion and level populations used in the example above) are usually stored in cgs units (i.e. cm−3 for the populations)."
   ]
  }
 ],
 "metadata": {
  "celltoolbar": "Raw Cell Format",
  "kernelspec": {
   "display_name": "Python 3",
   "language": "python",
   "name": "python3"
  },
  "language_info": {
   "codemirror_mode": {
    "name": "ipython",
    "version": 3
   },
   "file_extension": ".py",
   "mimetype": "text/x-python",
   "name": "python",
   "nbconvert_exporter": "python",
   "pygments_lexer": "ipython3",
   "version": "3.7.10"
  }
 },
 "nbformat": 4,
 "nbformat_minor": 4
}
